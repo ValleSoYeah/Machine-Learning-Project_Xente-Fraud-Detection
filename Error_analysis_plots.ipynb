{
 "cells": [
  {
   "cell_type": "code",
   "execution_count": 1,
   "metadata": {},
   "outputs": [],
   "source": [
    "# Import modules\n",
    "\n",
    "import pandas as pd\n",
    "import numpy as np\n",
    "import seaborn as sns\n",
    "import matplotlib.pyplot as plt\n",
    "\n",
    "from sklearn.ensemble import RandomForestClassifier\n",
    "from sklearn.metrics import precision_score, recall_score, roc_auc_score, roc_curve, confusion_matrix, make_scorer, matthews_corrcoef, f1_score, classification_report, fbeta_score\n",
    "from sklearn.model_selection import train_test_split, RandomizedSearchCV, GridSearchCV\n",
    "from sklearn.preprocessing import StandardScaler, MinMaxScaler\n",
    "from Error_analysis import calculate_cost\n",
    "\n",
    "RSEED= 42\n",
    "\n",
    "sns.set(rc={'figure.figsize':(12,8)})\n",
    "# Import Dataset\n",
    "\n"
   ]
  },
  {
   "cell_type": "code",
   "execution_count": 2,
   "metadata": {},
   "outputs": [],
   "source": [
    "def get_classification_dfs(X_test_unscaled, y_test, y_pred):\n",
    "    test_comb = X_test_unscaled.copy()\n",
    "    test_comb[\"y_true\"] = y_test\n",
    "    test_comb[\"y_pred\"] = y_pred\n",
    "    false_positive = test_comb[test_comb.y_true < test_comb.y_pred]\n",
    "    false_negative = test_comb[test_comb.y_true > test_comb.y_pred]\n",
    "    correct = test_comb[test_comb.y_true == test_comb.y_pred]\n",
    "    true_positive = correct[correct.y_pred == 1]\n",
    "    true_negative = correct[correct.y_pred == 0]\n",
    "    return true_negative, false_positive, false_negative, true_positive"
   ]
  },
  {
   "cell_type": "code",
   "execution_count": 3,
   "metadata": {},
   "outputs": [],
   "source": [
    "def calculate_cost(X_test_unscaled, y_test, y_pred):\n",
    "    '''Calculates the money saved by the model, returns the combined dataframe and the money saved by the model'''\n",
    "    test_comb = X_test_unscaled.copy()\n",
    "    test_comb[\"y_true\"] = y_test\n",
    "    test_comb[\"y_pred\"] = y_pred\n",
    "    false_positive = test_comb[test_comb.y_true < test_comb.y_pred]\n",
    "    false_negative = test_comb[test_comb.y_true > test_comb.y_pred]\n",
    "    correct = test_comb[test_comb.y_true == test_comb.y_pred]\n",
    "    true_positive = correct[correct.y_pred == 1]\n",
    "    true_negative = correct[correct.y_pred == 0]\n",
    "    reimbursements = false_negative[false_negative.SignAmount == 1].ModAmount.sum()\n",
    "    avoided_reimbursements = true_positive[true_positive.SignAmount == 1].ModAmount.sum()\n",
    "    print(f\"You detected {true_positive.shape[0]} fraudulent transactions\")\n",
    "    print(f\"You saved the company {round((avoided_reimbursements)/1e6, 2)} Million UGX\")\n",
    "    print(f\"You missed {false_negative.shape[0]} fraudulent transactions\")\n",
    "    print(f\"The company now has to reimburse frauds with a total of {round((reimbursements)/1e6, 2)} Million UGX\")\n",
    "    print(f\"Total money saved is {round((avoided_reimbursements - reimbursements)/1e6, 2)} Million UGX\")\n",
    "    print(f\"You incorrectly flagged {false_positive.shape[0]} legit transactions as fraudulent\")"
   ]
  },
  {
   "cell_type": "code",
   "execution_count": 4,
   "metadata": {},
   "outputs": [],
   "source": [
    "df= pd.read_csv('data/training_preprocessed.csv')\n",
    "y= df.FraudResult\n",
    "df.drop(\"FraudResult\", axis=1, inplace=True)\n",
    "X= df\n",
    "X.drop([\"TransactionId\"], axis=1, inplace=True)\n",
    "X_train, X_test, y_train, y_test = train_test_split(X, y, stratify=y, random_state=RSEED)\n",
    "X_test_unscaled = X_test.copy()"
   ]
  },
  {
   "cell_type": "code",
   "execution_count": 6,
   "metadata": {},
   "outputs": [
    {
     "name": "stdout",
     "output_type": "stream",
     "text": [
      "[[23867     1]\n",
      " [   10    38]]\n",
      "----------------------------------------\n",
      "Recall is:0.792\n",
      "F1 is:0.874\n",
      "MCC is:0.878\n",
      "You detected 38 fraudulent transactions\n",
      "You saved the company 86.02 Million UGX\n",
      "You missed 10 fraudulent transactions\n",
      "The company now has to reimburse frauds with a total of 11.8 Million UGX\n",
      "Total money saved is 74.22 Million UGX\n",
      "You incorrectly flagged 1 legit transactions as fraudulent\n"
     ]
    }
   ],
   "source": [
    "rf = RandomForestClassifier(max_features= 0.75, max_leaf_nodes = 80, min_samples_split = 5, n_estimators= 125)\n",
    "rf.fit(X_train, y_train)\n",
    "y_pred = rf.predict(X_test)\n",
    "print(confusion_matrix(y_test, y_pred))\n",
    "print(\"----\" * 10)\n",
    "print(f\"Recall is:{round(recall_score(y_test, y_pred),3)}\")\n",
    "print(f\"F1 is:{round(f1_score(y_test, y_pred),3)}\")\n",
    "print(f\"MCC is:{round(matthews_corrcoef(y_test, y_pred),3)}\")\n",
    "calculate_cost(X_test_unscaled, y_test, y_pred)"
   ]
  },
  {
   "cell_type": "code",
   "execution_count": 7,
   "metadata": {},
   "outputs": [],
   "source": [
    "TN, FP, FN, TP = get_classification_dfs(X_test_unscaled, y_test, y_pred)"
   ]
  },
  {
   "cell_type": "code",
   "execution_count": null,
   "metadata": {},
   "outputs": [],
   "source": [
    "og_df= "
   ]
  },
  {
   "cell_type": "code",
   "execution_count": null,
   "metadata": {},
   "outputs": [],
   "source": []
  }
 ],
 "metadata": {
  "kernelspec": {
   "display_name": "Python 3.9.8 ('.venv': venv)",
   "language": "python",
   "name": "python3"
  },
  "language_info": {
   "codemirror_mode": {
    "name": "ipython",
    "version": 3
   },
   "file_extension": ".py",
   "mimetype": "text/x-python",
   "name": "python",
   "nbconvert_exporter": "python",
   "pygments_lexer": "ipython3",
   "version": "3.9.8"
  },
  "orig_nbformat": 4,
  "vscode": {
   "interpreter": {
    "hash": "3655354e26834e2173e36e5ac925a0f8623daba597fae37f2d44dc4edabae95a"
   }
  }
 },
 "nbformat": 4,
 "nbformat_minor": 2
}
