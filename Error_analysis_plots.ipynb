{
 "cells": [
  {
   "cell_type": "code",
   "execution_count": 1,
   "metadata": {},
   "outputs": [],
   "source": [
    "# Import modules\n",
    "\n",
    "import pandas as pd\n",
    "import numpy as np\n",
    "import seaborn as sns\n",
    "import matplotlib.pyplot as plt\n",
    "\n",
    "from sklearn.ensemble import RandomForestClassifier\n",
    "from sklearn.metrics import precision_score, recall_score, roc_auc_score, roc_curve, confusion_matrix, make_scorer, matthews_corrcoef, f1_score, classification_report, fbeta_score\n",
    "from sklearn.model_selection import train_test_split, RandomizedSearchCV, GridSearchCV\n",
    "from sklearn.preprocessing import StandardScaler, MinMaxScaler\n",
    "from Error_analysis import calculate_cost\n",
    "\n",
    "RSEED= 42\n",
    "\n",
    "sns.set(rc={'figure.figsize':(12,8)})\n",
    "# Import Dataset\n",
    "\n"
   ]
  },
  {
   "cell_type": "code",
   "execution_count": 2,
   "metadata": {},
   "outputs": [],
   "source": [
    "def get_classification_dfs(X_test_unscaled, y_test, y_pred):\n",
    "    test_comb = X_test_unscaled.copy()\n",
    "    test_comb[\"y_true\"] = y_test\n",
    "    test_comb[\"y_pred\"] = y_pred\n",
    "    false_positive = test_comb[test_comb.y_true < test_comb.y_pred]\n",
    "    false_negative = test_comb[test_comb.y_true > test_comb.y_pred]\n",
    "    correct = test_comb[test_comb.y_true == test_comb.y_pred]\n",
    "    true_positive = correct[correct.y_pred == 1]\n",
    "    true_negative = correct[correct.y_pred == 0]\n",
    "    return true_negative, false_positive, false_negative, true_positive"
   ]
  },
  {
   "cell_type": "code",
   "execution_count": 3,
   "metadata": {},
   "outputs": [],
   "source": [
    "def calculate_cost(X_test_unscaled, y_test, y_pred):\n",
    "    '''Calculates the money saved by the model, returns the combined dataframe and the money saved by the model'''\n",
    "    test_comb = X_test_unscaled.copy()\n",
    "    test_comb[\"y_true\"] = y_test\n",
    "    test_comb[\"y_pred\"] = y_pred\n",
    "    false_positive = test_comb[test_comb.y_true < test_comb.y_pred]\n",
    "    false_negative = test_comb[test_comb.y_true > test_comb.y_pred]\n",
    "    correct = test_comb[test_comb.y_true == test_comb.y_pred]\n",
    "    true_positive = correct[correct.y_pred == 1]\n",
    "    true_negative = correct[correct.y_pred == 0]\n",
    "    reimbursements = false_negative[false_negative.SignAmount == 1].ModAmount.sum()\n",
    "    avoided_reimbursements = true_positive[true_positive.SignAmount == 1].ModAmount.sum()\n",
    "    print(f\"You detected {true_positive.shape[0]} fraudulent transactions\")\n",
    "    print(f\"You saved the company {round((avoided_reimbursements)/1e6, 2)} Million UGX\")\n",
    "    print(f\"You missed {false_negative.shape[0]} fraudulent transactions\")\n",
    "    print(f\"The company now has to reimburse frauds with a total of {round((reimbursements)/1e6, 2)} Million UGX\")\n",
    "    print(f\"Total money saved is {round((avoided_reimbursements - reimbursements)/1e6, 2)} Million UGX\")\n",
    "    print(f\"You incorrectly flagged {false_positive.shape[0]} legit transactions as fraudulent\")"
   ]
  },
  {
   "cell_type": "code",
   "execution_count": 4,
   "metadata": {},
   "outputs": [],
   "source": [
    "df= pd.read_csv('data/training_preprocessed.csv')\n",
    "y= df.FraudResult\n",
    "df.drop(\"FraudResult\", axis=1, inplace=True)\n",
    "X= df\n",
    "X_train, X_test, y_train, y_test = train_test_split(X, y, stratify=y, random_state=RSEED)\n",
    "X_test_unscaled = X_test.copy()\n",
    "X_train.drop([\"TransactionId\"], axis=1, inplace=True)\n",
    "X_test.drop([\"TransactionId\"], axis=1, inplace=True)"
   ]
  },
  {
   "cell_type": "code",
   "execution_count": 5,
   "metadata": {},
   "outputs": [
    {
     "name": "stdout",
     "output_type": "stream",
     "text": [
      "[[23867     1]\n",
      " [   10    38]]\n",
      "----------------------------------------\n",
      "Recall is:0.792\n",
      "F1 is:0.874\n",
      "MCC is:0.878\n",
      "You detected 38 fraudulent transactions\n",
      "You saved the company 86.02 Million UGX\n",
      "You missed 10 fraudulent transactions\n",
      "The company now has to reimburse frauds with a total of 11.8 Million UGX\n",
      "Total money saved is 74.22 Million UGX\n",
      "You incorrectly flagged 1 legit transactions as fraudulent\n"
     ]
    }
   ],
   "source": [
    "rf = RandomForestClassifier(max_features= 0.75, max_leaf_nodes = 80, min_samples_split = 5, n_estimators= 125)\n",
    "rf.fit(X_train, y_train)\n",
    "y_pred = rf.predict(X_test)\n",
    "print(confusion_matrix(y_test, y_pred))\n",
    "print(\"----\" * 10)\n",
    "print(f\"Recall is:{round(recall_score(y_test, y_pred),3)}\")\n",
    "print(f\"F1 is:{round(f1_score(y_test, y_pred),3)}\")\n",
    "print(f\"MCC is:{round(matthews_corrcoef(y_test, y_pred),3)}\")\n",
    "calculate_cost(X_test_unscaled, y_test, y_pred)"
   ]
  },
  {
   "cell_type": "code",
   "execution_count": 6,
   "metadata": {},
   "outputs": [],
   "source": [
    "TN, FP, FN, TP = get_classification_dfs(X_test_unscaled, y_test, y_pred)"
   ]
  },
  {
   "cell_type": "code",
   "execution_count": 7,
   "metadata": {},
   "outputs": [
    {
     "data": {
      "text/html": [
       "<div>\n",
       "<style scoped>\n",
       "    .dataframe tbody tr th:only-of-type {\n",
       "        vertical-align: middle;\n",
       "    }\n",
       "\n",
       "    .dataframe tbody tr th {\n",
       "        vertical-align: top;\n",
       "    }\n",
       "\n",
       "    .dataframe thead th {\n",
       "        text-align: right;\n",
       "    }\n",
       "</style>\n",
       "<table border=\"1\" class=\"dataframe\">\n",
       "  <thead>\n",
       "    <tr style=\"text-align: right;\">\n",
       "      <th></th>\n",
       "      <th>TransactionId</th>\n",
       "      <th>BatchId</th>\n",
       "      <th>AccountId</th>\n",
       "      <th>SubscriptionId</th>\n",
       "      <th>CustomerId</th>\n",
       "      <th>CurrencyCode</th>\n",
       "      <th>CountryCode</th>\n",
       "      <th>ProviderId</th>\n",
       "      <th>ProductId</th>\n",
       "      <th>ProductCategory</th>\n",
       "      <th>ChannelId</th>\n",
       "      <th>Amount</th>\n",
       "      <th>Value</th>\n",
       "      <th>TransactionStartTime</th>\n",
       "      <th>PricingStrategy</th>\n",
       "      <th>FraudResult</th>\n",
       "    </tr>\n",
       "  </thead>\n",
       "  <tbody>\n",
       "    <tr>\n",
       "      <th>0</th>\n",
       "      <td>76871</td>\n",
       "      <td>BatchId_36123</td>\n",
       "      <td>AccountId_3957</td>\n",
       "      <td>SubscriptionId_887</td>\n",
       "      <td>CustomerId_4406</td>\n",
       "      <td>UGX</td>\n",
       "      <td>256</td>\n",
       "      <td>ProviderId_6</td>\n",
       "      <td>ProductId_10</td>\n",
       "      <td>airtime</td>\n",
       "      <td>ChannelId_3</td>\n",
       "      <td>1000.0</td>\n",
       "      <td>1000</td>\n",
       "      <td>2018-11-15T02:18:49Z</td>\n",
       "      <td>2</td>\n",
       "      <td>0</td>\n",
       "    </tr>\n",
       "    <tr>\n",
       "      <th>1</th>\n",
       "      <td>73770</td>\n",
       "      <td>BatchId_15642</td>\n",
       "      <td>AccountId_4841</td>\n",
       "      <td>SubscriptionId_3829</td>\n",
       "      <td>CustomerId_4406</td>\n",
       "      <td>UGX</td>\n",
       "      <td>256</td>\n",
       "      <td>ProviderId_4</td>\n",
       "      <td>ProductId_6</td>\n",
       "      <td>financial_services</td>\n",
       "      <td>ChannelId_2</td>\n",
       "      <td>-20.0</td>\n",
       "      <td>20</td>\n",
       "      <td>2018-11-15T02:19:08Z</td>\n",
       "      <td>2</td>\n",
       "      <td>0</td>\n",
       "    </tr>\n",
       "    <tr>\n",
       "      <th>2</th>\n",
       "      <td>26203</td>\n",
       "      <td>BatchId_53941</td>\n",
       "      <td>AccountId_4229</td>\n",
       "      <td>SubscriptionId_222</td>\n",
       "      <td>CustomerId_4683</td>\n",
       "      <td>UGX</td>\n",
       "      <td>256</td>\n",
       "      <td>ProviderId_6</td>\n",
       "      <td>ProductId_1</td>\n",
       "      <td>airtime</td>\n",
       "      <td>ChannelId_3</td>\n",
       "      <td>500.0</td>\n",
       "      <td>500</td>\n",
       "      <td>2018-11-15T02:44:21Z</td>\n",
       "      <td>2</td>\n",
       "      <td>0</td>\n",
       "    </tr>\n",
       "    <tr>\n",
       "      <th>3</th>\n",
       "      <td>380</td>\n",
       "      <td>BatchId_102363</td>\n",
       "      <td>AccountId_648</td>\n",
       "      <td>SubscriptionId_2185</td>\n",
       "      <td>CustomerId_988</td>\n",
       "      <td>UGX</td>\n",
       "      <td>256</td>\n",
       "      <td>ProviderId_1</td>\n",
       "      <td>ProductId_21</td>\n",
       "      <td>utility_bill</td>\n",
       "      <td>ChannelId_3</td>\n",
       "      <td>20000.0</td>\n",
       "      <td>21800</td>\n",
       "      <td>2018-11-15T03:32:55Z</td>\n",
       "      <td>2</td>\n",
       "      <td>0</td>\n",
       "    </tr>\n",
       "    <tr>\n",
       "      <th>4</th>\n",
       "      <td>28195</td>\n",
       "      <td>BatchId_38780</td>\n",
       "      <td>AccountId_4841</td>\n",
       "      <td>SubscriptionId_3829</td>\n",
       "      <td>CustomerId_988</td>\n",
       "      <td>UGX</td>\n",
       "      <td>256</td>\n",
       "      <td>ProviderId_4</td>\n",
       "      <td>ProductId_6</td>\n",
       "      <td>financial_services</td>\n",
       "      <td>ChannelId_2</td>\n",
       "      <td>-644.0</td>\n",
       "      <td>644</td>\n",
       "      <td>2018-11-15T03:34:21Z</td>\n",
       "      <td>2</td>\n",
       "      <td>0</td>\n",
       "    </tr>\n",
       "  </tbody>\n",
       "</table>\n",
       "</div>"
      ],
      "text/plain": [
       "  TransactionId         BatchId       AccountId       SubscriptionId  \\\n",
       "0         76871   BatchId_36123  AccountId_3957   SubscriptionId_887   \n",
       "1         73770   BatchId_15642  AccountId_4841  SubscriptionId_3829   \n",
       "2         26203   BatchId_53941  AccountId_4229   SubscriptionId_222   \n",
       "3           380  BatchId_102363   AccountId_648  SubscriptionId_2185   \n",
       "4         28195   BatchId_38780  AccountId_4841  SubscriptionId_3829   \n",
       "\n",
       "        CustomerId CurrencyCode  CountryCode    ProviderId     ProductId  \\\n",
       "0  CustomerId_4406          UGX          256  ProviderId_6  ProductId_10   \n",
       "1  CustomerId_4406          UGX          256  ProviderId_4   ProductId_6   \n",
       "2  CustomerId_4683          UGX          256  ProviderId_6   ProductId_1   \n",
       "3   CustomerId_988          UGX          256  ProviderId_1  ProductId_21   \n",
       "4   CustomerId_988          UGX          256  ProviderId_4   ProductId_6   \n",
       "\n",
       "      ProductCategory    ChannelId   Amount  Value  TransactionStartTime  \\\n",
       "0             airtime  ChannelId_3   1000.0   1000  2018-11-15T02:18:49Z   \n",
       "1  financial_services  ChannelId_2    -20.0     20  2018-11-15T02:19:08Z   \n",
       "2             airtime  ChannelId_3    500.0    500  2018-11-15T02:44:21Z   \n",
       "3        utility_bill  ChannelId_3  20000.0  21800  2018-11-15T03:32:55Z   \n",
       "4  financial_services  ChannelId_2   -644.0    644  2018-11-15T03:34:21Z   \n",
       "\n",
       "   PricingStrategy  FraudResult  \n",
       "0                2            0  \n",
       "1                2            0  \n",
       "2                2            0  \n",
       "3                2            0  \n",
       "4                2            0  "
      ]
     },
     "execution_count": 7,
     "metadata": {},
     "output_type": "execute_result"
    }
   ],
   "source": [
    "og_df= pd.read_csv(\"data/training.csv\")\n",
    "og_df[\"TransactionId\"]=og_df.TransactionId.str.split('_').str[-1]\n",
    "og_df.head()\n"
   ]
  },
  {
   "cell_type": "code",
   "execution_count": 13,
   "metadata": {},
   "outputs": [],
   "source": [
    "TN = og_df.loc[og_df[\"TransactionId\"].isin(np.array(TN[\"TransactionId\"]).astype(str))]\n",
    "FP = og_df.loc[og_df[\"TransactionId\"].isin(np.array(FP[\"TransactionId\"]).astype(str))]\n",
    "FN = og_df.loc[og_df[\"TransactionId\"].isin(np.array(FN[\"TransactionId\"]).astype(str))]\n",
    "TP = og_df.loc[og_df[\"TransactionId\"].isin(np.array(TP[\"TransactionId\"]).astype(str))]\n",
    "\n"
   ]
  },
  {
   "cell_type": "code",
   "execution_count": 27,
   "metadata": {},
   "outputs": [
    {
     "data": {
      "text/plain": [
       "<seaborn.axisgrid.FacetGrid at 0x17a9236d0>"
      ]
     },
     "execution_count": 27,
     "metadata": {},
     "output_type": "execute_result"
    },
    {
     "data": {
      "image/png": "[encoded data removed]",
      "text/plain": [
       "<Figure size 360x360 with 1 Axes>"
      ]
     },
     "metadata": {},
     "output_type": "display_data"
    },
    {
     "data": {
      "image/png": "[encoded data removed]",
      "text/plain": [
       "<Figure size 360x360 with 1 Axes>"
      ]
     },
     "metadata": {},
     "output_type": "display_data"
    },
    {
     "data": {
      "image/png": "[encoded data removed]",
      "text/plain": [
       "<Figure size 360x360 with 1 Axes>"
      ]
     },
     "metadata": {},
     "output_type": "display_data"
    },
    {
     "data": {
      "image/png": "[encoded data removed]",
      "text/plain": [
       "<Figure size 360x360 with 1 Axes>"
      ]
     },
     "metadata": {},
     "output_type": "display_data"
    }
   ],
   "source": [
    "sns.catplot(data= TN, x=\"ProductCategory\",  y=\"Amount\").set(title = \"TN\", ylim=(-1e6, 1e7))\n",
    "sns.catplot(data= FP, x=\"ProductCategory\", y=\"Amount\").set(title = \"FP\", ylim=(-1e6, 1e7))\n",
    "sns.catplot(data= FN, x=\"ProductCategory\", y=\"Amount\").set(title = \"FN\", ylim=(-1e6, 1e7))\n",
    "sns.catplot(data= TP, x=\"ProductCategory\", y=\"Amount\").set(title = \"TP\", ylim=(-1e6, 1e7))"
   ]
  },
  {
   "cell_type": "code",
   "execution_count": null,
   "metadata": {},
   "outputs": [],
   "source": []
  },
  {
   "cell_type": "code",
   "execution_count": null,
   "metadata": {},
   "outputs": [],
   "source": []
  }
 ],
 "metadata": {
  "kernelspec": {
   "display_name": "Python 3.9.8 ('.venv': venv)",
   "language": "python",
   "name": "python3"
  },
  "language_info": {
   "codemirror_mode": {
    "name": "ipython",
    "version": 3
   },
   "file_extension": ".py",
   "mimetype": "text/x-python",
   "name": "python",
   "nbconvert_exporter": "python",
   "pygments_lexer": "ipython3",
   "version": "3.9.8"
  },
  "orig_nbformat": 4,
  "vscode": {
   "interpreter": {
    "hash": "3655354e26834e2173e36e5ac925a0f8623daba597fae37f2d44dc4edabae95a"
   }
  }
 },
 "nbformat": 4,
 "nbformat_minor": 2
}
