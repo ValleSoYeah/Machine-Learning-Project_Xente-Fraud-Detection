{
 "cells": [
  {
   "cell_type": "markdown",
   "metadata": {},
   "source": [
    "# ***Team Modelling***"
   ]
  },
  {
   "cell_type": "code",
   "execution_count": 31,
   "metadata": {},
   "outputs": [],
   "source": [
    "# Import modules\n",
    "\n",
    "import pandas as pd\n",
    "import numpy as np\n",
    "import seaborn as sns\n",
    "import matplotlib.pyplot as plt\n",
    "\n",
    "from sklearn.ensemble import RandomForestClassifier\n",
    "from sklearn.metrics import precision_score, recall_score, roc_auc_score, roc_curve, confusion_matrix, make_scorer, matthews_corrcoef, f1_score, classification_report, fbeta_score\n",
    "from sklearn.model_selection import train_test_split, RandomizedSearchCV, GridSearchCV\n",
    "from sklearn.preprocessing import StandardScaler, MinMaxScaler\n",
    "from Error_analysis import calculate_cost\n",
    "\n",
    "RSEED= 42\n",
    "\n",
    "sns.set(rc={'figure.figsize':(12,8)})"
   ]
  },
  {
   "cell_type": "code",
   "execution_count": 2,
   "metadata": {},
   "outputs": [],
   "source": [
    "# Import Dataset\n",
    "\n",
    "df= pd.read_csv('data/training_preprocessed.csv')"
   ]
  },
  {
   "cell_type": "code",
   "execution_count": 3,
   "metadata": {},
   "outputs": [],
   "source": [
    "y= df.FraudResult\n",
    "df.drop(\"FraudResult\", axis=1, inplace=True)\n",
    "X= df\n",
    "X.drop([\"TransactionId\"], axis=1, inplace=True)"
   ]
  },
  {
   "cell_type": "code",
   "execution_count": 4,
   "metadata": {},
   "outputs": [],
   "source": [
    "X_train, X_test, y_train, y_test = train_test_split(X, y, stratify=y, random_state=RSEED)\n",
    "X_test_unscaled = X_test.copy()"
   ]
  },
  {
   "cell_type": "code",
   "execution_count": 5,
   "metadata": {},
   "outputs": [
    {
     "data": {
      "text/html": [
       "<style>#sk-container-id-1 {color: black;background-color: white;}#sk-container-id-1 pre{padding: 0;}#sk-container-id-1 div.sk-toggleable {background-color: white;}#sk-container-id-1 label.sk-toggleable__label {cursor: pointer;display: block;width: 100%;margin-bottom: 0;padding: 0.3em;box-sizing: border-box;text-align: center;}#sk-container-id-1 label.sk-toggleable__label-arrow:before {content: \"▸\";float: left;margin-right: 0.25em;color: #696969;}#sk-container-id-1 label.sk-toggleable__label-arrow:hover:before {color: black;}#sk-container-id-1 div.sk-estimator:hover label.sk-toggleable__label-arrow:before {color: black;}#sk-container-id-1 div.sk-toggleable__content {max-height: 0;max-width: 0;overflow: hidden;text-align: left;background-color: #f0f8ff;}#sk-container-id-1 div.sk-toggleable__content pre {margin: 0.2em;color: black;border-radius: 0.25em;background-color: #f0f8ff;}#sk-container-id-1 input.sk-toggleable__control:checked~div.sk-toggleable__content {max-height: 200px;max-width: 100%;overflow: auto;}#sk-container-id-1 input.sk-toggleable__control:checked~label.sk-toggleable__label-arrow:before {content: \"▾\";}#sk-container-id-1 div.sk-estimator input.sk-toggleable__control:checked~label.sk-toggleable__label {background-color: #d4ebff;}#sk-container-id-1 div.sk-label input.sk-toggleable__control:checked~label.sk-toggleable__label {background-color: #d4ebff;}#sk-container-id-1 input.sk-hidden--visually {border: 0;clip: rect(1px 1px 1px 1px);clip: rect(1px, 1px, 1px, 1px);height: 1px;margin: -1px;overflow: hidden;padding: 0;position: absolute;width: 1px;}#sk-container-id-1 div.sk-estimator {font-family: monospace;background-color: #f0f8ff;border: 1px dotted black;border-radius: 0.25em;box-sizing: border-box;margin-bottom: 0.5em;}#sk-container-id-1 div.sk-estimator:hover {background-color: #d4ebff;}#sk-container-id-1 div.sk-parallel-item::after {content: \"\";width: 100%;border-bottom: 1px solid gray;flex-grow: 1;}#sk-container-id-1 div.sk-label:hover label.sk-toggleable__label {background-color: #d4ebff;}#sk-container-id-1 div.sk-serial::before {content: \"\";position: absolute;border-left: 1px solid gray;box-sizing: border-box;top: 0;bottom: 0;left: 50%;z-index: 0;}#sk-container-id-1 div.sk-serial {display: flex;flex-direction: column;align-items: center;background-color: white;padding-right: 0.2em;padding-left: 0.2em;position: relative;}#sk-container-id-1 div.sk-item {position: relative;z-index: 1;}#sk-container-id-1 div.sk-parallel {display: flex;align-items: stretch;justify-content: center;background-color: white;position: relative;}#sk-container-id-1 div.sk-item::before, #sk-container-id-1 div.sk-parallel-item::before {content: \"\";position: absolute;border-left: 1px solid gray;box-sizing: border-box;top: 0;bottom: 0;left: 50%;z-index: -1;}#sk-container-id-1 div.sk-parallel-item {display: flex;flex-direction: column;z-index: 1;position: relative;background-color: white;}#sk-container-id-1 div.sk-parallel-item:first-child::after {align-self: flex-end;width: 50%;}#sk-container-id-1 div.sk-parallel-item:last-child::after {align-self: flex-start;width: 50%;}#sk-container-id-1 div.sk-parallel-item:only-child::after {width: 0;}#sk-container-id-1 div.sk-dashed-wrapped {border: 1px dashed gray;margin: 0 0.4em 0.5em 0.4em;box-sizing: border-box;padding-bottom: 0.4em;background-color: white;}#sk-container-id-1 div.sk-label label {font-family: monospace;font-weight: bold;display: inline-block;line-height: 1.2em;}#sk-container-id-1 div.sk-label-container {text-align: center;}#sk-container-id-1 div.sk-container {/* jupyter's `normalize.less` sets `[hidden] { display: none; }` but bootstrap.min.css set `[hidden] { display: none !important; }` so we also need the `!important` here to be able to override the default hidden behavior on the sphinx rendered scikit-learn.org. See: https://github.com/scikit-learn/scikit-learn/issues/21755 */display: inline-block !important;position: relative;}#sk-container-id-1 div.sk-text-repr-fallback {display: none;}</style><div id=\"sk-container-id-1\" class=\"sk-top-container\"><div class=\"sk-text-repr-fallback\"><pre>RandomForestClassifier()</pre><b>In a Jupyter environment, please rerun this cell to show the HTML representation or trust the notebook. <br />On GitHub, the HTML representation is unable to render, please try loading this page with nbviewer.org.</b></div><div class=\"sk-container\" hidden><div class=\"sk-item\"><div class=\"sk-estimator sk-toggleable\"><input class=\"sk-toggleable__control sk-hidden--visually\" id=\"sk-estimator-id-1\" type=\"checkbox\" checked><label for=\"sk-estimator-id-1\" class=\"sk-toggleable__label sk-toggleable__label-arrow\">RandomForestClassifier</label><div class=\"sk-toggleable__content\"><pre>RandomForestClassifier()</pre></div></div></div></div></div>"
      ],
      "text/plain": [
       "RandomForestClassifier()"
      ]
     },
     "execution_count": 5,
     "metadata": {},
     "output_type": "execute_result"
    }
   ],
   "source": [
    "rf = RandomForestClassifier()\n",
    "\n",
    "rf.fit(X_train, y_train)"
   ]
  },
  {
   "cell_type": "code",
   "execution_count": 6,
   "metadata": {},
   "outputs": [
    {
     "data": {
      "text/plain": [
       "<bound method BaseEstimator.get_params of RandomForestClassifier()>"
      ]
     },
     "execution_count": 6,
     "metadata": {},
     "output_type": "execute_result"
    }
   ],
   "source": [
    "rf.get_params"
   ]
  },
  {
   "cell_type": "code",
   "execution_count": 7,
   "metadata": {},
   "outputs": [],
   "source": [
    "y_pred = rf.predict(X_test)"
   ]
  },
  {
   "cell_type": "code",
   "execution_count": 8,
   "metadata": {},
   "outputs": [
    {
     "data": {
      "text/plain": [
       "array([[23860,     8],\n",
       "       [   18,    30]])"
      ]
     },
     "execution_count": 8,
     "metadata": {},
     "output_type": "execute_result"
    }
   ],
   "source": [
    "confusion_matrix(y_test, y_pred)"
   ]
  },
  {
   "cell_type": "code",
   "execution_count": 9,
   "metadata": {},
   "outputs": [
    {
     "name": "stdout",
     "output_type": "stream",
     "text": [
      "0.625\n",
      "0.8123324115971176\n"
     ]
    }
   ],
   "source": [
    "print(recall_score(y_test, y_pred))\n",
    "print(roc_auc_score(y_test, y_pred))"
   ]
  },
  {
   "cell_type": "code",
   "execution_count": 10,
   "metadata": {},
   "outputs": [],
   "source": [
    "minmax = MinMaxScaler()\n",
    "stdsc = StandardScaler()"
   ]
  },
  {
   "cell_type": "code",
   "execution_count": 11,
   "metadata": {},
   "outputs": [],
   "source": [
    "X_train['ModAmount'] = stdsc.fit_transform(pd.DataFrame(X_train['ModAmount']))\n",
    "X_test['ModAmount'] = stdsc.transform(pd.DataFrame(X_test['ModAmount']));"
   ]
  },
  {
   "cell_type": "code",
   "execution_count": null,
   "metadata": {},
   "outputs": [],
   "source": [
    "X_test_unscaled"
   ]
  },
  {
   "cell_type": "code",
   "execution_count": 13,
   "metadata": {},
   "outputs": [],
   "source": [
    "\"\"\" rand_param_grid = {'n_estimators': np.linspace(10, 100).astype(int),\n",
    "                    'max_depth': [None] + list(np.linspace(3, 100).astype(int)),\n",
    "                    'max_features': ['sqrt', None] + list(np.arange(0.5, 1, 0.1)),\n",
    "                    'max_leaf_nodes': [None] + list(np.linspace(10, 50).astype(int)),\n",
    "                    'min_samples_split': [2, 5, 10, 50]\n",
    "                    }\n",
    "\n",
    "scorer = make_scorer(matthews_corrcoef)\n",
    "\n",
    "rand_grid = RandomizedSearchCV(rf, param_distributions=rand_param_grid, n_jobs=-1, scoring=scorer, n_iter=100, verbose=0, random_state=RSEED) \"\"\";"
   ]
  },
  {
   "cell_type": "code",
   "execution_count": 14,
   "metadata": {},
   "outputs": [],
   "source": [
    "# param grid is small because we narrow down using optimal parameters from long grid search\n",
    "\n",
    "param_grid = {'n_estimators': [125],#np.linspace(100, 200, 5).astype(int),\n",
    "                    #'max_depth': [None] + list(np.linspace(3, 100, 10).astype(int)),\n",
    "                    'max_features': [0.75], #['sqrt']+ list(np.arange(0.5, 1, 0.25)),\n",
    "                    'max_leaf_nodes': list(np.linspace(80, 200, 5).astype(int)),# + [None],\n",
    "                    'min_samples_split':[5]# [2, 5, 10, 50]\n",
    "                    }\n",
    "\n",
    "scorer = make_scorer(matthews_corrcoef)\n",
    "\n",
    "rand_grid = GridSearchCV(rf, param_grid=param_grid, n_jobs=-1, scoring=scorer, verbose=5)"
   ]
  },
  {
   "cell_type": "code",
   "execution_count": 15,
   "metadata": {},
   "outputs": [
    {
     "name": "stdout",
     "output_type": "stream",
     "text": [
      "Fitting 5 folds for each of 5 candidates, totalling 25 fits\n",
      "[CV 4/5] END max_features=0.75, max_leaf_nodes=80, min_samples_split=5, n_estimators=125;, score=0.852 total time=  10.7s\n",
      "[CV 1/5] END max_features=0.75, max_leaf_nodes=80, min_samples_split=5, n_estimators=125;, score=0.965 total time=  11.8s\n",
      "[CV 1/5] END max_features=0.75, max_leaf_nodes=110, min_samples_split=5, n_estimators=125;, score=0.965 total time=  11.8s\n",
      "[CV 2/5] END max_features=0.75, max_leaf_nodes=110, min_samples_split=5, n_estimators=125;, score=0.912 total time=  11.8s\n",
      "[CV 3/5] END max_features=0.75, max_leaf_nodes=80, min_samples_split=5, n_estimators=125;, score=0.967 total time=  11.9s\n",
      "[CV 5/5] END max_features=0.75, max_leaf_nodes=80, min_samples_split=5, n_estimators=125;, score=0.947 total time=  12.0s\n",
      "[CV 3/5] END max_features=0.75, max_leaf_nodes=110, min_samples_split=5, n_estimators=125;, score=0.949 total time=  12.4s\n",
      "[CV 2/5] END max_features=0.75, max_leaf_nodes=80, min_samples_split=5, n_estimators=125;, score=0.896 total time=  12.7s\n",
      "[CV 4/5] END max_features=0.75, max_leaf_nodes=110, min_samples_split=5, n_estimators=125;, score=0.852 total time=  10.6s\n",
      "[CV 4/5] END max_features=0.75, max_leaf_nodes=140, min_samples_split=5, n_estimators=125;, score=0.831 total time=  10.9s\n",
      "[CV 5/5] END max_features=0.75, max_leaf_nodes=110, min_samples_split=5, n_estimators=125;, score=0.929 total time=  12.0s\n",
      "[CV 1/5] END max_features=0.75, max_leaf_nodes=140, min_samples_split=5, n_estimators=125;, score=0.965 total time=  12.1s\n",
      "[CV 2/5] END max_features=0.75, max_leaf_nodes=140, min_samples_split=5, n_estimators=125;, score=0.912 total time=  12.5s\n",
      "[CV 5/5] END max_features=0.75, max_leaf_nodes=140, min_samples_split=5, n_estimators=125;, score=0.929 total time=  12.2s\n",
      "[CV 1/5] END max_features=0.75, max_leaf_nodes=170, min_samples_split=5, n_estimators=125;, score=0.965 total time=  12.1s\n",
      "[CV 3/5] END max_features=0.75, max_leaf_nodes=140, min_samples_split=5, n_estimators=125;, score=0.949 total time=  13.0s\n",
      "[CV 2/5] END max_features=0.75, max_leaf_nodes=170, min_samples_split=5, n_estimators=125;, score=0.896 total time=  16.7s\n",
      "[CV 4/5] END max_features=0.75, max_leaf_nodes=170, min_samples_split=5, n_estimators=125;, score=0.852 total time=  15.3s\n",
      "[CV 3/5] END max_features=0.75, max_leaf_nodes=170, min_samples_split=5, n_estimators=125;, score=0.967 total time=  16.4s\n",
      "[CV 4/5] END max_features=0.75, max_leaf_nodes=200, min_samples_split=5, n_estimators=125;, score=0.852 total time=  15.0s\n",
      "[CV 5/5] END max_features=0.75, max_leaf_nodes=170, min_samples_split=5, n_estimators=125;, score=0.929 total time=  16.1s\n",
      "[CV 1/5] END max_features=0.75, max_leaf_nodes=200, min_samples_split=5, n_estimators=125;, score=0.965 total time=  16.0s\n",
      "[CV 3/5] END max_features=0.75, max_leaf_nodes=200, min_samples_split=5, n_estimators=125;, score=0.967 total time=  15.7s\n",
      "[CV 2/5] END max_features=0.75, max_leaf_nodes=200, min_samples_split=5, n_estimators=125;, score=0.912 total time=  16.3s\n",
      "[CV 5/5] END max_features=0.75, max_leaf_nodes=200, min_samples_split=5, n_estimators=125;, score=0.929 total time=   8.2s\n"
     ]
    },
    {
     "data": {
      "text/html": [
       "<style>#sk-container-id-2 {color: black;background-color: white;}#sk-container-id-2 pre{padding: 0;}#sk-container-id-2 div.sk-toggleable {background-color: white;}#sk-container-id-2 label.sk-toggleable__label {cursor: pointer;display: block;width: 100%;margin-bottom: 0;padding: 0.3em;box-sizing: border-box;text-align: center;}#sk-container-id-2 label.sk-toggleable__label-arrow:before {content: \"▸\";float: left;margin-right: 0.25em;color: #696969;}#sk-container-id-2 label.sk-toggleable__label-arrow:hover:before {color: black;}#sk-container-id-2 div.sk-estimator:hover label.sk-toggleable__label-arrow:before {color: black;}#sk-container-id-2 div.sk-toggleable__content {max-height: 0;max-width: 0;overflow: hidden;text-align: left;background-color: #f0f8ff;}#sk-container-id-2 div.sk-toggleable__content pre {margin: 0.2em;color: black;border-radius: 0.25em;background-color: #f0f8ff;}#sk-container-id-2 input.sk-toggleable__control:checked~div.sk-toggleable__content {max-height: 200px;max-width: 100%;overflow: auto;}#sk-container-id-2 input.sk-toggleable__control:checked~label.sk-toggleable__label-arrow:before {content: \"▾\";}#sk-container-id-2 div.sk-estimator input.sk-toggleable__control:checked~label.sk-toggleable__label {background-color: #d4ebff;}#sk-container-id-2 div.sk-label input.sk-toggleable__control:checked~label.sk-toggleable__label {background-color: #d4ebff;}#sk-container-id-2 input.sk-hidden--visually {border: 0;clip: rect(1px 1px 1px 1px);clip: rect(1px, 1px, 1px, 1px);height: 1px;margin: -1px;overflow: hidden;padding: 0;position: absolute;width: 1px;}#sk-container-id-2 div.sk-estimator {font-family: monospace;background-color: #f0f8ff;border: 1px dotted black;border-radius: 0.25em;box-sizing: border-box;margin-bottom: 0.5em;}#sk-container-id-2 div.sk-estimator:hover {background-color: #d4ebff;}#sk-container-id-2 div.sk-parallel-item::after {content: \"\";width: 100%;border-bottom: 1px solid gray;flex-grow: 1;}#sk-container-id-2 div.sk-label:hover label.sk-toggleable__label {background-color: #d4ebff;}#sk-container-id-2 div.sk-serial::before {content: \"\";position: absolute;border-left: 1px solid gray;box-sizing: border-box;top: 0;bottom: 0;left: 50%;z-index: 0;}#sk-container-id-2 div.sk-serial {display: flex;flex-direction: column;align-items: center;background-color: white;padding-right: 0.2em;padding-left: 0.2em;position: relative;}#sk-container-id-2 div.sk-item {position: relative;z-index: 1;}#sk-container-id-2 div.sk-parallel {display: flex;align-items: stretch;justify-content: center;background-color: white;position: relative;}#sk-container-id-2 div.sk-item::before, #sk-container-id-2 div.sk-parallel-item::before {content: \"\";position: absolute;border-left: 1px solid gray;box-sizing: border-box;top: 0;bottom: 0;left: 50%;z-index: -1;}#sk-container-id-2 div.sk-parallel-item {display: flex;flex-direction: column;z-index: 1;position: relative;background-color: white;}#sk-container-id-2 div.sk-parallel-item:first-child::after {align-self: flex-end;width: 50%;}#sk-container-id-2 div.sk-parallel-item:last-child::after {align-self: flex-start;width: 50%;}#sk-container-id-2 div.sk-parallel-item:only-child::after {width: 0;}#sk-container-id-2 div.sk-dashed-wrapped {border: 1px dashed gray;margin: 0 0.4em 0.5em 0.4em;box-sizing: border-box;padding-bottom: 0.4em;background-color: white;}#sk-container-id-2 div.sk-label label {font-family: monospace;font-weight: bold;display: inline-block;line-height: 1.2em;}#sk-container-id-2 div.sk-label-container {text-align: center;}#sk-container-id-2 div.sk-container {/* jupyter's `normalize.less` sets `[hidden] { display: none; }` but bootstrap.min.css set `[hidden] { display: none !important; }` so we also need the `!important` here to be able to override the default hidden behavior on the sphinx rendered scikit-learn.org. See: https://github.com/scikit-learn/scikit-learn/issues/21755 */display: inline-block !important;position: relative;}#sk-container-id-2 div.sk-text-repr-fallback {display: none;}</style><div id=\"sk-container-id-2\" class=\"sk-top-container\"><div class=\"sk-text-repr-fallback\"><pre>GridSearchCV(estimator=RandomForestClassifier(), n_jobs=-1,\n",
       "             param_grid={&#x27;max_features&#x27;: [0.75],\n",
       "                         &#x27;max_leaf_nodes&#x27;: [80, 110, 140, 170, 200],\n",
       "                         &#x27;min_samples_split&#x27;: [5], &#x27;n_estimators&#x27;: [125]},\n",
       "             scoring=make_scorer(matthews_corrcoef), verbose=5)</pre><b>In a Jupyter environment, please rerun this cell to show the HTML representation or trust the notebook. <br />On GitHub, the HTML representation is unable to render, please try loading this page with nbviewer.org.</b></div><div class=\"sk-container\" hidden><div class=\"sk-item sk-dashed-wrapped\"><div class=\"sk-label-container\"><div class=\"sk-label sk-toggleable\"><input class=\"sk-toggleable__control sk-hidden--visually\" id=\"sk-estimator-id-2\" type=\"checkbox\" ><label for=\"sk-estimator-id-2\" class=\"sk-toggleable__label sk-toggleable__label-arrow\">GridSearchCV</label><div class=\"sk-toggleable__content\"><pre>GridSearchCV(estimator=RandomForestClassifier(), n_jobs=-1,\n",
       "             param_grid={&#x27;max_features&#x27;: [0.75],\n",
       "                         &#x27;max_leaf_nodes&#x27;: [80, 110, 140, 170, 200],\n",
       "                         &#x27;min_samples_split&#x27;: [5], &#x27;n_estimators&#x27;: [125]},\n",
       "             scoring=make_scorer(matthews_corrcoef), verbose=5)</pre></div></div></div><div class=\"sk-parallel\"><div class=\"sk-parallel-item\"><div class=\"sk-item\"><div class=\"sk-label-container\"><div class=\"sk-label sk-toggleable\"><input class=\"sk-toggleable__control sk-hidden--visually\" id=\"sk-estimator-id-3\" type=\"checkbox\" ><label for=\"sk-estimator-id-3\" class=\"sk-toggleable__label sk-toggleable__label-arrow\">estimator: RandomForestClassifier</label><div class=\"sk-toggleable__content\"><pre>RandomForestClassifier()</pre></div></div></div><div class=\"sk-serial\"><div class=\"sk-item\"><div class=\"sk-estimator sk-toggleable\"><input class=\"sk-toggleable__control sk-hidden--visually\" id=\"sk-estimator-id-4\" type=\"checkbox\" ><label for=\"sk-estimator-id-4\" class=\"sk-toggleable__label sk-toggleable__label-arrow\">RandomForestClassifier</label><div class=\"sk-toggleable__content\"><pre>RandomForestClassifier()</pre></div></div></div></div></div></div></div></div></div></div>"
      ],
      "text/plain": [
       "GridSearchCV(estimator=RandomForestClassifier(), n_jobs=-1,\n",
       "             param_grid={'max_features': [0.75],\n",
       "                         'max_leaf_nodes': [80, 110, 140, 170, 200],\n",
       "                         'min_samples_split': [5], 'n_estimators': [125]},\n",
       "             scoring=make_scorer(matthews_corrcoef), verbose=5)"
      ]
     },
     "execution_count": 15,
     "metadata": {},
     "output_type": "execute_result"
    }
   ],
   "source": [
    "rand_grid.fit(X_train, y_train)"
   ]
  },
  {
   "cell_type": "code",
   "execution_count": 16,
   "metadata": {},
   "outputs": [
    {
     "data": {
      "text/plain": [
       "{'max_features': 0.75,\n",
       " 'max_leaf_nodes': 80,\n",
       " 'min_samples_split': 5,\n",
       " 'n_estimators': 125}"
      ]
     },
     "execution_count": 16,
     "metadata": {},
     "output_type": "execute_result"
    }
   ],
   "source": [
    "rand_grid.best_params_"
   ]
  },
  {
   "cell_type": "code",
   "execution_count": 17,
   "metadata": {},
   "outputs": [],
   "source": [
    "y_pred_grid = rand_grid.best_estimator_.predict(X_test)"
   ]
  },
  {
   "cell_type": "code",
   "execution_count": 73,
   "metadata": {},
   "outputs": [
    {
     "name": "stdout",
     "output_type": "stream",
     "text": [
      "Recall is:0.792\n",
      "MCC is:0.878\n",
      "F1 is:0.874\n"
     ]
    }
   ],
   "source": [
    "print(f\"Recall is:{round(recall_score(y_test, y_pred_grid),3)}\")\n",
    "print(f\"MCC is:{round(matthews_corrcoef(y_test, y_pred_grid),3)}\")\n",
    "print(f\"F1 is:{round(f1_score(y_test, y_pred_grid),3)}\")"
   ]
  },
  {
   "cell_type": "code",
   "execution_count": 46,
   "metadata": {},
   "outputs": [
    {
     "data": {
      "text/plain": [
       "<AxesSubplot:>"
      ]
     },
     "execution_count": 46,
     "metadata": {},
     "output_type": "execute_result"
    },
    {
     "data": {
      "image/png": "[encoded data removed]",
      "text/plain": [
       "<Figure size 864x576 with 2 Axes>"
      ]
     },
     "metadata": {},
     "output_type": "display_data"
    }
   ],
   "source": [
    "matrix = confusion_matrix(y_test, y_pred_grid)\n",
    "colormap = sns.color_palette(\"Greens\", 3)\n",
    "sns.heatmap(data=matrix, annot=True, fmt='.0f', annot_kws={\"fontsize\":18}, linewidths=1, linecolor='k', cmap=colormap, clip_on=False)"
   ]
  },
  {
   "cell_type": "code",
   "execution_count": 20,
   "metadata": {},
   "outputs": [
    {
     "name": "stdout",
     "output_type": "stream",
     "text": [
      "You saved the company 86.02 Million UGX\n",
      "The company still has to reimburse frauds with a total of 11.8 Million UGX\n",
      "Total money saved is 74.22 Million UGX\n"
     ]
    }
   ],
   "source": [
    "calculate_cost(X_test_unscaled, y_test, y_pred_grid)"
   ]
  },
  {
   "cell_type": "code",
   "execution_count": 21,
   "metadata": {},
   "outputs": [],
   "source": [
    "\"\"\"{'max_features': 0.75,\n",
    " 'max_leaf_nodes': 80,\n",
    " 'min_samples_split': 5,\n",
    " 'n_estimators': 125}\n",
    "\n",
    " Recall is:0.792\n",
    "MCC is:0.878\n",
    "\n",
    "You saved the company 86.02 Million UGX\n",
    "The company still has to reimburse frauds with a total of 11.8 Million UGX\n",
    "Total money saved is 74.22 Million UGX\"\"\";"
   ]
  },
  {
   "cell_type": "code",
   "execution_count": 22,
   "metadata": {},
   "outputs": [],
   "source": [
    "\"\"\"param_grid = {'n_estimators': #np.linspace(100, 200, 5).astype(int),\n",
    "                    'max_depth': [None] + list(np.linspace(3, 100, 10).astype(int)),\n",
    "                    'max_features': [0.75], ['sqrt']+ list(np.arange(0.5, 1, 0.25)),\n",
    "                    'max_leaf_nodes': list(np.linspace(80, 100, 5).astype(int)) + [None],\n",
    "                    'min_samples_split':[2, 5, 10, 50]\n",
    "                    }\n",
    "\n",
    "scorer = make_scorer(matthews_corrcoef)\n",
    "\n",
    "rand_grid = GridSearchCV(rf, param_grid=param_grid, n_jobs=-1, scoring=scorer, verbose=5)\n",
    "\n",
    "Recall is:0.7916666666666666\n",
    "ROC-AUC is:0.895812384782973\n",
    "F1 is:0.8735632183908045\n",
    "F-beta is:0.9313725490196079\n",
    "MCC is:0.8780632982539146\n",
    "\n",
    "{'max_features': 0.75,\n",
    " 'max_leaf_nodes': 100,\n",
    " 'min_samples_split': 5,\n",
    " 'n_estimators': 125}\"\"\";"
   ]
  },
  {
   "cell_type": "markdown",
   "metadata": {},
   "source": [
    "## ***Feature importance calculations and plotting***"
   ]
  },
  {
   "cell_type": "code",
   "execution_count": 70,
   "metadata": {},
   "outputs": [],
   "source": [
    "Names = list(df.columns.values)\n",
    "importances = rf.feature_importances_\n",
    "std = np.std([tree.feature_importances_ for tree in rf.estimators_], axis=0)\n",
    "forest_importances = pd.Series(importances, index=Names).sort_values(ascending=False)"
   ]
  },
  {
   "cell_type": "code",
   "execution_count": 72,
   "metadata": {},
   "outputs": [
    {
     "data": {
      "image/png": "[encoded data removed]",
      "text/plain": [
       "<Figure size 864x576 with 1 Axes>"
      ]
     },
     "metadata": {},
     "output_type": "display_data"
    }
   ],
   "source": [
    "fig, ax = plt.subplots()\n",
    "forest_importances.plot.bar(ax=ax)\n",
    "ax.set_title(\"Feature importances using MDI\")\n",
    "ax.set_ylabel(\"Mean decrease in impurity\")\n",
    "plt.xticks(rotation = 90)\n",
    "fig.tight_layout()"
   ]
  },
  {
   "cell_type": "code",
   "execution_count": 77,
   "metadata": {},
   "outputs": [
    {
     "name": "stdout",
     "output_type": "stream",
     "text": [
      "Feature: 0, Score: 0.0046\n",
      "Feature: 1, Score: 0.0090\n",
      "Feature: 2, Score: 0.0212\n",
      "Feature: 3, Score: 0.0345\n",
      "Feature: 4, Score: 0.0075\n",
      "Feature: 5, Score: 0.0137\n",
      "Feature: 6, Score: 0.0007\n",
      "Feature: 7, Score: 0.5929\n",
      "Feature: 8, Score: 0.0073\n",
      "Feature: 9, Score: 0.0000\n",
      "Feature: 10, Score: 0.0106\n",
      "Feature: 11, Score: 0.0007\n",
      "Feature: 12, Score: 0.0093\n",
      "Feature: 13, Score: 0.0015\n",
      "Feature: 14, Score: 0.0000\n",
      "Feature: 15, Score: 0.0025\n",
      "Feature: 16, Score: 0.0000\n",
      "Feature: 17, Score: 0.0000\n",
      "Feature: 18, Score: 0.0009\n",
      "Feature: 19, Score: 0.0001\n",
      "Feature: 20, Score: 0.0076\n",
      "Feature: 21, Score: 0.0000\n",
      "Feature: 22, Score: 0.0001\n",
      "Feature: 23, Score: 0.0000\n",
      "Feature: 24, Score: 0.0000\n",
      "Feature: 25, Score: 0.0011\n",
      "Feature: 26, Score: 0.0004\n",
      "Feature: 27, Score: 0.0000\n",
      "Feature: 28, Score: 0.0000\n",
      "Feature: 29, Score: 0.0000\n",
      "Feature: 30, Score: 0.0021\n",
      "Feature: 31, Score: 0.0000\n",
      "Feature: 32, Score: 0.0008\n",
      "Feature: 33, Score: 0.0006\n",
      "Feature: 34, Score: 0.0000\n",
      "Feature: 35, Score: 0.0000\n",
      "Feature: 36, Score: 0.0014\n",
      "Feature: 37, Score: 0.0022\n",
      "Feature: 38, Score: 0.0000\n",
      "Feature: 39, Score: 0.0032\n",
      "Feature: 40, Score: 0.0000\n",
      "Feature: 41, Score: 0.0000\n",
      "Feature: 42, Score: 0.0000\n",
      "Feature: 43, Score: 0.0011\n",
      "Feature: 44, Score: 0.0001\n",
      "Feature: 45, Score: 0.0013\n",
      "Feature: 46, Score: 0.0007\n",
      "Feature: 47, Score: 0.0007\n",
      "Feature: 48, Score: 0.0016\n",
      "Feature: 49, Score: 0.0001\n",
      "Feature: 50, Score: 0.0201\n",
      "Feature: 51, Score: 0.0009\n",
      "Feature: 52, Score: 0.0086\n",
      "Feature: 53, Score: 0.0010\n",
      "Feature: 54, Score: 0.0079\n",
      "Feature: 55, Score: 0.0343\n",
      "Feature: 56, Score: 0.0310\n",
      "Feature: 57, Score: 0.0325\n",
      "Feature: 58, Score: 0.0269\n",
      "Feature: 59, Score: 0.0295\n",
      "Feature: 60, Score: 0.0290\n",
      "Feature: 61, Score: 0.0362\n"
     ]
    }
   ],
   "source": [
    "for i,v in enumerate(importances):\n",
    "\tprint('Feature: %0d, Score: %.4f' % (i,v))"
   ]
  },
  {
   "cell_type": "code",
   "execution_count": null,
   "metadata": {},
   "outputs": [],
   "source": []
  }
 ],
 "metadata": {
  "kernelspec": {
   "display_name": "Python 3.9.8 ('.venv': venv)",
   "language": "python",
   "name": "python3"
  },
  "language_info": {
   "codemirror_mode": {
    "name": "ipython",
    "version": 3
   },
   "file_extension": ".py",
   "mimetype": "text/x-python",
   "name": "python",
   "nbconvert_exporter": "python",
   "pygments_lexer": "ipython3",
   "version": "3.9.8"
  },
  "orig_nbformat": 4,
  "vscode": {
   "interpreter": {
    "hash": "e48538ccf8b5500c544bf913cad555972235d69560c87a6bf54dcc8e9d28b9c6"
   }
  }
 },
 "nbformat": 4,
 "nbformat_minor": 2
}
