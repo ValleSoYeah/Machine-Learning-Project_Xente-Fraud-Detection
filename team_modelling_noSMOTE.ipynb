{
 "cells": [
  {
   "cell_type": "markdown",
   "metadata": {},
   "source": [
    "# ***Team Modelling***"
   ]
  },
  {
   "cell_type": "code",
   "execution_count": 1,
   "metadata": {},
   "outputs": [],
   "source": [
    "# Import modules\n",
    "\n",
    "import pandas as pd\n",
    "import numpy as np\n",
    "import seaborn as sns\n",
    "import matplotlib.pyplot as plt\n",
    "\n",
    "from sklearn.ensemble import RandomForestClassifier\n",
    "from sklearn.metrics import precision_score, recall_score, roc_auc_score, roc_curve, confusion_matrix, make_scorer, matthews_corrcoef, f1_score, classification_report, fbeta_score\n",
    "from sklearn.model_selection import train_test_split, RandomizedSearchCV, GridSearchCV\n",
    "from sklearn.preprocessing import StandardScaler, MinMaxScaler\n",
    "from Error_analysis import calculate_cost\n",
    "\n",
    "RSEED= 42\n",
    "\n"
   ]
  },
  {
   "cell_type": "code",
   "execution_count": 2,
   "metadata": {},
   "outputs": [],
   "source": [
    "# Import Dataset\n",
    "\n",
    "df= pd.read_csv('data/training_preprocessed.csv')"
   ]
  },
  {
   "cell_type": "code",
   "execution_count": 3,
   "metadata": {},
   "outputs": [],
   "source": [
    "y= df.FraudResult\n",
    "df.drop(\"FraudResult\", axis=1, inplace=True)\n",
    "X= df\n",
    "X.drop([\"TransactionId\"], axis=1, inplace=True)"
   ]
  },
  {
   "cell_type": "code",
   "execution_count": 4,
   "metadata": {},
   "outputs": [],
   "source": [
    "X_train, X_test, y_train, y_test = train_test_split(X, y, stratify=y, random_state=RSEED)\n",
    "X_test_unscaled = X_test.copy()"
   ]
  },
  {
   "cell_type": "code",
   "execution_count": 5,
   "metadata": {},
   "outputs": [
    {
     "data": {
      "text/html": [
       "<style>#sk-container-id-1 {color: black;background-color: white;}#sk-container-id-1 pre{padding: 0;}#sk-container-id-1 div.sk-toggleable {background-color: white;}#sk-container-id-1 label.sk-toggleable__label {cursor: pointer;display: block;width: 100%;margin-bottom: 0;padding: 0.3em;box-sizing: border-box;text-align: center;}#sk-container-id-1 label.sk-toggleable__label-arrow:before {content: \"▸\";float: left;margin-right: 0.25em;color: #696969;}#sk-container-id-1 label.sk-toggleable__label-arrow:hover:before {color: black;}#sk-container-id-1 div.sk-estimator:hover label.sk-toggleable__label-arrow:before {color: black;}#sk-container-id-1 div.sk-toggleable__content {max-height: 0;max-width: 0;overflow: hidden;text-align: left;background-color: #f0f8ff;}#sk-container-id-1 div.sk-toggleable__content pre {margin: 0.2em;color: black;border-radius: 0.25em;background-color: #f0f8ff;}#sk-container-id-1 input.sk-toggleable__control:checked~div.sk-toggleable__content {max-height: 200px;max-width: 100%;overflow: auto;}#sk-container-id-1 input.sk-toggleable__control:checked~label.sk-toggleable__label-arrow:before {content: \"▾\";}#sk-container-id-1 div.sk-estimator input.sk-toggleable__control:checked~label.sk-toggleable__label {background-color: #d4ebff;}#sk-container-id-1 div.sk-label input.sk-toggleable__control:checked~label.sk-toggleable__label {background-color: #d4ebff;}#sk-container-id-1 input.sk-hidden--visually {border: 0;clip: rect(1px 1px 1px 1px);clip: rect(1px, 1px, 1px, 1px);height: 1px;margin: -1px;overflow: hidden;padding: 0;position: absolute;width: 1px;}#sk-container-id-1 div.sk-estimator {font-family: monospace;background-color: #f0f8ff;border: 1px dotted black;border-radius: 0.25em;box-sizing: border-box;margin-bottom: 0.5em;}#sk-container-id-1 div.sk-estimator:hover {background-color: #d4ebff;}#sk-container-id-1 div.sk-parallel-item::after {content: \"\";width: 100%;border-bottom: 1px solid gray;flex-grow: 1;}#sk-container-id-1 div.sk-label:hover label.sk-toggleable__label {background-color: #d4ebff;}#sk-container-id-1 div.sk-serial::before {content: \"\";position: absolute;border-left: 1px solid gray;box-sizing: border-box;top: 0;bottom: 0;left: 50%;z-index: 0;}#sk-container-id-1 div.sk-serial {display: flex;flex-direction: column;align-items: center;background-color: white;padding-right: 0.2em;padding-left: 0.2em;position: relative;}#sk-container-id-1 div.sk-item {position: relative;z-index: 1;}#sk-container-id-1 div.sk-parallel {display: flex;align-items: stretch;justify-content: center;background-color: white;position: relative;}#sk-container-id-1 div.sk-item::before, #sk-container-id-1 div.sk-parallel-item::before {content: \"\";position: absolute;border-left: 1px solid gray;box-sizing: border-box;top: 0;bottom: 0;left: 50%;z-index: -1;}#sk-container-id-1 div.sk-parallel-item {display: flex;flex-direction: column;z-index: 1;position: relative;background-color: white;}#sk-container-id-1 div.sk-parallel-item:first-child::after {align-self: flex-end;width: 50%;}#sk-container-id-1 div.sk-parallel-item:last-child::after {align-self: flex-start;width: 50%;}#sk-container-id-1 div.sk-parallel-item:only-child::after {width: 0;}#sk-container-id-1 div.sk-dashed-wrapped {border: 1px dashed gray;margin: 0 0.4em 0.5em 0.4em;box-sizing: border-box;padding-bottom: 0.4em;background-color: white;}#sk-container-id-1 div.sk-label label {font-family: monospace;font-weight: bold;display: inline-block;line-height: 1.2em;}#sk-container-id-1 div.sk-label-container {text-align: center;}#sk-container-id-1 div.sk-container {/* jupyter's `normalize.less` sets `[hidden] { display: none; }` but bootstrap.min.css set `[hidden] { display: none !important; }` so we also need the `!important` here to be able to override the default hidden behavior on the sphinx rendered scikit-learn.org. See: https://github.com/scikit-learn/scikit-learn/issues/21755 */display: inline-block !important;position: relative;}#sk-container-id-1 div.sk-text-repr-fallback {display: none;}</style><div id=\"sk-container-id-1\" class=\"sk-top-container\"><div class=\"sk-text-repr-fallback\"><pre>RandomForestClassifier()</pre><b>In a Jupyter environment, please rerun this cell to show the HTML representation or trust the notebook. <br />On GitHub, the HTML representation is unable to render, please try loading this page with nbviewer.org.</b></div><div class=\"sk-container\" hidden><div class=\"sk-item\"><div class=\"sk-estimator sk-toggleable\"><input class=\"sk-toggleable__control sk-hidden--visually\" id=\"sk-estimator-id-1\" type=\"checkbox\" checked><label for=\"sk-estimator-id-1\" class=\"sk-toggleable__label sk-toggleable__label-arrow\">RandomForestClassifier</label><div class=\"sk-toggleable__content\"><pre>RandomForestClassifier()</pre></div></div></div></div></div>"
      ],
      "text/plain": [
       "RandomForestClassifier()"
      ]
     },
     "execution_count": 5,
     "metadata": {},
     "output_type": "execute_result"
    }
   ],
   "source": [
    "rf = RandomForestClassifier()\n",
    "\n",
    "rf.fit(X_train, y_train)\n"
   ]
  },
  {
   "cell_type": "code",
   "execution_count": 6,
   "metadata": {},
   "outputs": [
    {
     "data": {
      "text/plain": [
       "<bound method BaseEstimator.get_params of RandomForestClassifier()>"
      ]
     },
     "execution_count": 6,
     "metadata": {},
     "output_type": "execute_result"
    }
   ],
   "source": [
    "rf.get_params"
   ]
  },
  {
   "cell_type": "code",
   "execution_count": 7,
   "metadata": {},
   "outputs": [],
   "source": [
    "y_pred = rf.predict(X_test)"
   ]
  },
  {
   "cell_type": "code",
   "execution_count": 8,
   "metadata": {},
   "outputs": [
    {
     "data": {
      "text/plain": [
       "array([[23860,     8],\n",
       "       [   20,    28]])"
      ]
     },
     "execution_count": 8,
     "metadata": {},
     "output_type": "execute_result"
    }
   ],
   "source": [
    "confusion_matrix(y_test, y_pred)"
   ]
  },
  {
   "cell_type": "code",
   "execution_count": 9,
   "metadata": {},
   "outputs": [
    {
     "name": "stdout",
     "output_type": "stream",
     "text": [
      "0.5833333333333334\n",
      "0.7914990782637843\n"
     ]
    }
   ],
   "source": [
    "print(recall_score(y_test, y_pred))\n",
    "print(roc_auc_score(y_test, y_pred))"
   ]
  },
  {
   "cell_type": "code",
   "execution_count": 10,
   "metadata": {},
   "outputs": [],
   "source": [
    "minmax = MinMaxScaler()\n",
    "stdsc = StandardScaler()"
   ]
  },
  {
   "cell_type": "code",
   "execution_count": 11,
   "metadata": {},
   "outputs": [],
   "source": [
    "X_train['ModAmount'] = stdsc.fit_transform(pd.DataFrame(X_train['ModAmount']))\n",
    "X_test['ModAmount'] = stdsc.transform(pd.DataFrame(X_test['ModAmount']));"
   ]
  },
  {
   "cell_type": "code",
   "execution_count": 12,
   "metadata": {},
   "outputs": [
    {
     "data": {
      "text/html": [
       "<div>\n",
       "<style scoped>\n",
       "    .dataframe tbody tr th:only-of-type {\n",
       "        vertical-align: middle;\n",
       "    }\n",
       "\n",
       "    .dataframe tbody tr th {\n",
       "        vertical-align: top;\n",
       "    }\n",
       "\n",
       "    .dataframe thead th {\n",
       "        text-align: right;\n",
       "    }\n",
       "</style>\n",
       "<table border=\"1\" class=\"dataframe\">\n",
       "  <thead>\n",
       "    <tr style=\"text-align: right;\">\n",
       "      <th></th>\n",
       "      <th>Year</th>\n",
       "      <th>Month</th>\n",
       "      <th>Week</th>\n",
       "      <th>Day</th>\n",
       "      <th>is_workday</th>\n",
       "      <th>is_worktime</th>\n",
       "      <th>SignAmount</th>\n",
       "      <th>ModAmount</th>\n",
       "      <th>ProviderId_1</th>\n",
       "      <th>ProviderId_2</th>\n",
       "      <th>...</th>\n",
       "      <th>PricingStrategy_2</th>\n",
       "      <th>PricingStrategy_4</th>\n",
       "      <th>batch_size</th>\n",
       "      <th>total_transactions_by_customer</th>\n",
       "      <th>transactions_by_customer_this_month</th>\n",
       "      <th>transactions_by_customer_this_week</th>\n",
       "      <th>transactions_by_customer_this_day</th>\n",
       "      <th>day_vs_week</th>\n",
       "      <th>day_vs_month</th>\n",
       "      <th>week_vs_month</th>\n",
       "    </tr>\n",
       "  </thead>\n",
       "  <tbody>\n",
       "    <tr>\n",
       "      <th>94322</th>\n",
       "      <td>2019</td>\n",
       "      <td>2</td>\n",
       "      <td>7</td>\n",
       "      <td>12</td>\n",
       "      <td>1</td>\n",
       "      <td>0</td>\n",
       "      <td>0</td>\n",
       "      <td>1000.0</td>\n",
       "      <td>0</td>\n",
       "      <td>0</td>\n",
       "      <td>...</td>\n",
       "      <td>0</td>\n",
       "      <td>1</td>\n",
       "      <td>1</td>\n",
       "      <td>8</td>\n",
       "      <td>8</td>\n",
       "      <td>8</td>\n",
       "      <td>6</td>\n",
       "      <td>0.750000</td>\n",
       "      <td>0.750000</td>\n",
       "      <td>1.000000</td>\n",
       "    </tr>\n",
       "    <tr>\n",
       "      <th>6241</th>\n",
       "      <td>2018</td>\n",
       "      <td>11</td>\n",
       "      <td>47</td>\n",
       "      <td>23</td>\n",
       "      <td>1</td>\n",
       "      <td>1</td>\n",
       "      <td>1</td>\n",
       "      <td>27612.0</td>\n",
       "      <td>0</td>\n",
       "      <td>0</td>\n",
       "      <td>...</td>\n",
       "      <td>1</td>\n",
       "      <td>0</td>\n",
       "      <td>1</td>\n",
       "      <td>120</td>\n",
       "      <td>27</td>\n",
       "      <td>12</td>\n",
       "      <td>10</td>\n",
       "      <td>0.833333</td>\n",
       "      <td>0.370370</td>\n",
       "      <td>0.444444</td>\n",
       "    </tr>\n",
       "    <tr>\n",
       "      <th>2137</th>\n",
       "      <td>2018</td>\n",
       "      <td>11</td>\n",
       "      <td>46</td>\n",
       "      <td>16</td>\n",
       "      <td>1</td>\n",
       "      <td>0</td>\n",
       "      <td>0</td>\n",
       "      <td>55.0</td>\n",
       "      <td>0</td>\n",
       "      <td>0</td>\n",
       "      <td>...</td>\n",
       "      <td>1</td>\n",
       "      <td>0</td>\n",
       "      <td>1</td>\n",
       "      <td>29</td>\n",
       "      <td>19</td>\n",
       "      <td>10</td>\n",
       "      <td>2</td>\n",
       "      <td>0.200000</td>\n",
       "      <td>0.105263</td>\n",
       "      <td>0.526316</td>\n",
       "    </tr>\n",
       "    <tr>\n",
       "      <th>61893</th>\n",
       "      <td>2019</td>\n",
       "      <td>1</td>\n",
       "      <td>3</td>\n",
       "      <td>16</td>\n",
       "      <td>1</td>\n",
       "      <td>1</td>\n",
       "      <td>1</td>\n",
       "      <td>1000.0</td>\n",
       "      <td>0</td>\n",
       "      <td>0</td>\n",
       "      <td>...</td>\n",
       "      <td>1</td>\n",
       "      <td>0</td>\n",
       "      <td>1</td>\n",
       "      <td>106</td>\n",
       "      <td>22</td>\n",
       "      <td>10</td>\n",
       "      <td>3</td>\n",
       "      <td>0.300000</td>\n",
       "      <td>0.136364</td>\n",
       "      <td>0.454545</td>\n",
       "    </tr>\n",
       "    <tr>\n",
       "      <th>88068</th>\n",
       "      <td>2019</td>\n",
       "      <td>2</td>\n",
       "      <td>6</td>\n",
       "      <td>7</td>\n",
       "      <td>1</td>\n",
       "      <td>1</td>\n",
       "      <td>1</td>\n",
       "      <td>10000.0</td>\n",
       "      <td>0</td>\n",
       "      <td>0</td>\n",
       "      <td>...</td>\n",
       "      <td>1</td>\n",
       "      <td>0</td>\n",
       "      <td>1</td>\n",
       "      <td>225</td>\n",
       "      <td>225</td>\n",
       "      <td>131</td>\n",
       "      <td>37</td>\n",
       "      <td>0.282443</td>\n",
       "      <td>0.164444</td>\n",
       "      <td>0.582222</td>\n",
       "    </tr>\n",
       "    <tr>\n",
       "      <th>...</th>\n",
       "      <td>...</td>\n",
       "      <td>...</td>\n",
       "      <td>...</td>\n",
       "      <td>...</td>\n",
       "      <td>...</td>\n",
       "      <td>...</td>\n",
       "      <td>...</td>\n",
       "      <td>...</td>\n",
       "      <td>...</td>\n",
       "      <td>...</td>\n",
       "      <td>...</td>\n",
       "      <td>...</td>\n",
       "      <td>...</td>\n",
       "      <td>...</td>\n",
       "      <td>...</td>\n",
       "      <td>...</td>\n",
       "      <td>...</td>\n",
       "      <td>...</td>\n",
       "      <td>...</td>\n",
       "      <td>...</td>\n",
       "      <td>...</td>\n",
       "    </tr>\n",
       "    <tr>\n",
       "      <th>13930</th>\n",
       "      <td>2018</td>\n",
       "      <td>12</td>\n",
       "      <td>49</td>\n",
       "      <td>3</td>\n",
       "      <td>1</td>\n",
       "      <td>1</td>\n",
       "      <td>0</td>\n",
       "      <td>25.0</td>\n",
       "      <td>0</td>\n",
       "      <td>0</td>\n",
       "      <td>...</td>\n",
       "      <td>1</td>\n",
       "      <td>0</td>\n",
       "      <td>1</td>\n",
       "      <td>95</td>\n",
       "      <td>12</td>\n",
       "      <td>12</td>\n",
       "      <td>5</td>\n",
       "      <td>0.416667</td>\n",
       "      <td>0.416667</td>\n",
       "      <td>1.000000</td>\n",
       "    </tr>\n",
       "    <tr>\n",
       "      <th>86419</th>\n",
       "      <td>2019</td>\n",
       "      <td>2</td>\n",
       "      <td>6</td>\n",
       "      <td>5</td>\n",
       "      <td>1</td>\n",
       "      <td>0</td>\n",
       "      <td>0</td>\n",
       "      <td>100.0</td>\n",
       "      <td>0</td>\n",
       "      <td>0</td>\n",
       "      <td>...</td>\n",
       "      <td>1</td>\n",
       "      <td>0</td>\n",
       "      <td>1</td>\n",
       "      <td>75</td>\n",
       "      <td>22</td>\n",
       "      <td>10</td>\n",
       "      <td>2</td>\n",
       "      <td>0.200000</td>\n",
       "      <td>0.090909</td>\n",
       "      <td>0.454545</td>\n",
       "    </tr>\n",
       "    <tr>\n",
       "      <th>73670</th>\n",
       "      <td>2019</td>\n",
       "      <td>1</td>\n",
       "      <td>4</td>\n",
       "      <td>26</td>\n",
       "      <td>0</td>\n",
       "      <td>1</td>\n",
       "      <td>1</td>\n",
       "      <td>5000.0</td>\n",
       "      <td>0</td>\n",
       "      <td>0</td>\n",
       "      <td>...</td>\n",
       "      <td>1</td>\n",
       "      <td>0</td>\n",
       "      <td>1</td>\n",
       "      <td>131</td>\n",
       "      <td>83</td>\n",
       "      <td>28</td>\n",
       "      <td>7</td>\n",
       "      <td>0.250000</td>\n",
       "      <td>0.084337</td>\n",
       "      <td>0.337349</td>\n",
       "    </tr>\n",
       "    <tr>\n",
       "      <th>72591</th>\n",
       "      <td>2019</td>\n",
       "      <td>1</td>\n",
       "      <td>4</td>\n",
       "      <td>25</td>\n",
       "      <td>1</td>\n",
       "      <td>1</td>\n",
       "      <td>0</td>\n",
       "      <td>1000.0</td>\n",
       "      <td>0</td>\n",
       "      <td>0</td>\n",
       "      <td>...</td>\n",
       "      <td>1</td>\n",
       "      <td>0</td>\n",
       "      <td>1</td>\n",
       "      <td>28</td>\n",
       "      <td>7</td>\n",
       "      <td>7</td>\n",
       "      <td>7</td>\n",
       "      <td>1.000000</td>\n",
       "      <td>1.000000</td>\n",
       "      <td>1.000000</td>\n",
       "    </tr>\n",
       "    <tr>\n",
       "      <th>94190</th>\n",
       "      <td>2019</td>\n",
       "      <td>2</td>\n",
       "      <td>7</td>\n",
       "      <td>12</td>\n",
       "      <td>1</td>\n",
       "      <td>0</td>\n",
       "      <td>1</td>\n",
       "      <td>500.0</td>\n",
       "      <td>0</td>\n",
       "      <td>0</td>\n",
       "      <td>...</td>\n",
       "      <td>1</td>\n",
       "      <td>0</td>\n",
       "      <td>1</td>\n",
       "      <td>7</td>\n",
       "      <td>7</td>\n",
       "      <td>7</td>\n",
       "      <td>7</td>\n",
       "      <td>1.000000</td>\n",
       "      <td>1.000000</td>\n",
       "      <td>1.000000</td>\n",
       "    </tr>\n",
       "  </tbody>\n",
       "</table>\n",
       "<p>23916 rows × 62 columns</p>\n",
       "</div>"
      ],
      "text/plain": [
       "       Year  Month  Week  Day  is_workday  is_worktime  SignAmount  ModAmount  \\\n",
       "94322  2019      2     7   12           1            0           0     1000.0   \n",
       "6241   2018     11    47   23           1            1           1    27612.0   \n",
       "2137   2018     11    46   16           1            0           0       55.0   \n",
       "61893  2019      1     3   16           1            1           1     1000.0   \n",
       "88068  2019      2     6    7           1            1           1    10000.0   \n",
       "...     ...    ...   ...  ...         ...          ...         ...        ...   \n",
       "13930  2018     12    49    3           1            1           0       25.0   \n",
       "86419  2019      2     6    5           1            0           0      100.0   \n",
       "73670  2019      1     4   26           0            1           1     5000.0   \n",
       "72591  2019      1     4   25           1            1           0     1000.0   \n",
       "94190  2019      2     7   12           1            0           1      500.0   \n",
       "\n",
       "       ProviderId_1  ProviderId_2  ...  PricingStrategy_2  PricingStrategy_4  \\\n",
       "94322             0             0  ...                  0                  1   \n",
       "6241              0             0  ...                  1                  0   \n",
       "2137              0             0  ...                  1                  0   \n",
       "61893             0             0  ...                  1                  0   \n",
       "88068             0             0  ...                  1                  0   \n",
       "...             ...           ...  ...                ...                ...   \n",
       "13930             0             0  ...                  1                  0   \n",
       "86419             0             0  ...                  1                  0   \n",
       "73670             0             0  ...                  1                  0   \n",
       "72591             0             0  ...                  1                  0   \n",
       "94190             0             0  ...                  1                  0   \n",
       "\n",
       "       batch_size  total_transactions_by_customer  \\\n",
       "94322           1                               8   \n",
       "6241            1                             120   \n",
       "2137            1                              29   \n",
       "61893           1                             106   \n",
       "88068           1                             225   \n",
       "...           ...                             ...   \n",
       "13930           1                              95   \n",
       "86419           1                              75   \n",
       "73670           1                             131   \n",
       "72591           1                              28   \n",
       "94190           1                               7   \n",
       "\n",
       "       transactions_by_customer_this_month  \\\n",
       "94322                                    8   \n",
       "6241                                    27   \n",
       "2137                                    19   \n",
       "61893                                   22   \n",
       "88068                                  225   \n",
       "...                                    ...   \n",
       "13930                                   12   \n",
       "86419                                   22   \n",
       "73670                                   83   \n",
       "72591                                    7   \n",
       "94190                                    7   \n",
       "\n",
       "       transactions_by_customer_this_week  transactions_by_customer_this_day  \\\n",
       "94322                                   8                                  6   \n",
       "6241                                   12                                 10   \n",
       "2137                                   10                                  2   \n",
       "61893                                  10                                  3   \n",
       "88068                                 131                                 37   \n",
       "...                                   ...                                ...   \n",
       "13930                                  12                                  5   \n",
       "86419                                  10                                  2   \n",
       "73670                                  28                                  7   \n",
       "72591                                   7                                  7   \n",
       "94190                                   7                                  7   \n",
       "\n",
       "       day_vs_week  day_vs_month  week_vs_month  \n",
       "94322     0.750000      0.750000       1.000000  \n",
       "6241      0.833333      0.370370       0.444444  \n",
       "2137      0.200000      0.105263       0.526316  \n",
       "61893     0.300000      0.136364       0.454545  \n",
       "88068     0.282443      0.164444       0.582222  \n",
       "...            ...           ...            ...  \n",
       "13930     0.416667      0.416667       1.000000  \n",
       "86419     0.200000      0.090909       0.454545  \n",
       "73670     0.250000      0.084337       0.337349  \n",
       "72591     1.000000      1.000000       1.000000  \n",
       "94190     1.000000      1.000000       1.000000  \n",
       "\n",
       "[23916 rows x 62 columns]"
      ]
     },
     "execution_count": 12,
     "metadata": {},
     "output_type": "execute_result"
    }
   ],
   "source": [
    "X_test_unscaled"
   ]
  },
  {
   "cell_type": "code",
   "execution_count": 13,
   "metadata": {},
   "outputs": [],
   "source": [
    "\"\"\" rand_param_grid = {'n_estimators': np.linspace(10, 100).astype(int),\n",
    "                    'max_depth': [None] + list(np.linspace(3, 100).astype(int)),\n",
    "                    'max_features': ['sqrt', None] + list(np.arange(0.5, 1, 0.1)),\n",
    "                    'max_leaf_nodes': [None] + list(np.linspace(10, 50).astype(int)),\n",
    "                    'min_samples_split': [2, 5, 10, 50]\n",
    "                    }\n",
    "\n",
    "scorer = make_scorer(matthews_corrcoef)\n",
    "\n",
    "rand_grid = RandomizedSearchCV(rf, param_distributions=rand_param_grid, n_jobs=-1, scoring=scorer, n_iter=100, verbose=0, random_state=RSEED) \"\"\";"
   ]
  },
  {
   "cell_type": "code",
   "execution_count": 14,
   "metadata": {},
   "outputs": [],
   "source": [
    "# param grid is small because we narrow down using optimal parameters from long grid search\n",
    "\n",
    "param_grid = {'n_estimators': [125],#np.linspace(100, 200, 5).astype(int),\n",
    "                    #'max_depth': [None] + list(np.linspace(3, 100, 10).astype(int)),\n",
    "                    'max_features': [0.75], #['sqrt']+ list(np.arange(0.5, 1, 0.25)),\n",
    "                    'max_leaf_nodes': list(np.linspace(80, 200, 5).astype(int)),# + [None],\n",
    "                    'min_samples_split':[5]# [2, 5, 10, 50]\n",
    "                    }\n",
    "\n",
    "scorer = make_scorer(matthews_corrcoef)\n",
    "\n",
    "rand_grid = GridSearchCV(rf, param_grid=param_grid, n_jobs=-1, scoring=scorer, verbose=5)"
   ]
  },
  {
   "cell_type": "code",
   "execution_count": 15,
   "metadata": {},
   "outputs": [
    {
     "name": "stdout",
     "output_type": "stream",
     "text": [
      "Fitting 5 folds for each of 5 candidates, totalling 25 fits\n",
      "[CV 4/5] END max_features=0.75, max_leaf_nodes=80, min_samples_split=5, n_estimators=125;, score=0.852 total time=  13.1s\n",
      "[CV 1/5] END max_features=0.75, max_leaf_nodes=80, min_samples_split=5, n_estimators=125;, score=0.947 total time=  13.9s\n",
      "[CV 1/5] END max_features=0.75, max_leaf_nodes=110, min_samples_split=5, n_estimators=125;, score=0.947 total time=  14.1s\n",
      "[CV 5/5] END max_features=0.75, max_leaf_nodes=80, min_samples_split=5, n_estimators=125;, score=0.929 total time=  14.4s\n",
      "[CV 3/5] END max_features=0.75, max_leaf_nodes=110, min_samples_split=5, n_estimators=125;, score=0.949 total time=  15.1s\n",
      "[CV 3/5] END max_features=0.75, max_leaf_nodes=80, min_samples_split=5, n_estimators=125;, score=0.949 total time=  15.3s\n",
      "[CV 2/5] END max_features=0.75, max_leaf_nodes=110, min_samples_split=5, n_estimators=125;, score=0.912 total time=  15.4s\n",
      "[CV 2/5] END max_features=0.75, max_leaf_nodes=80, min_samples_split=5, n_estimators=125;, score=0.931 total time=  15.5s\n",
      "[CV 4/5] END max_features=0.75, max_leaf_nodes=110, min_samples_split=5, n_estimators=125;, score=0.831 total time=  15.2s\n",
      "[CV 5/5] END max_features=0.75, max_leaf_nodes=110, min_samples_split=5, n_estimators=125;, score=0.947 total time=  16.5s\n",
      "[CV 4/5] END max_features=0.75, max_leaf_nodes=140, min_samples_split=5, n_estimators=125;, score=0.813 total time=  15.1s\n",
      "[CV 1/5] END max_features=0.75, max_leaf_nodes=140, min_samples_split=5, n_estimators=125;, score=0.965 total time=  16.7s\n",
      "[CV 5/5] END max_features=0.75, max_leaf_nodes=140, min_samples_split=5, n_estimators=125;, score=0.929 total time=  16.4s\n",
      "[CV 2/5] END max_features=0.75, max_leaf_nodes=140, min_samples_split=5, n_estimators=125;, score=0.912 total time=  18.2s\n",
      "[CV 1/5] END max_features=0.75, max_leaf_nodes=170, min_samples_split=5, n_estimators=125;, score=0.965 total time=  17.1s\n",
      "[CV 3/5] END max_features=0.75, max_leaf_nodes=140, min_samples_split=5, n_estimators=125;, score=0.967 total time=  18.5s\n",
      "[CV 2/5] END max_features=0.75, max_leaf_nodes=170, min_samples_split=5, n_estimators=125;, score=0.912 total time=  20.6s\n",
      "[CV 4/5] END max_features=0.75, max_leaf_nodes=170, min_samples_split=5, n_estimators=125;, score=0.831 total time=  19.0s\n",
      "[CV 5/5] END max_features=0.75, max_leaf_nodes=170, min_samples_split=5, n_estimators=125;, score=0.929 total time=  19.5s\n",
      "[CV 4/5] END max_features=0.75, max_leaf_nodes=200, min_samples_split=5, n_estimators=125;, score=0.852 total time=  17.8s\n",
      "[CV 3/5] END max_features=0.75, max_leaf_nodes=170, min_samples_split=5, n_estimators=125;, score=0.949 total time=  21.5s\n",
      "[CV 1/5] END max_features=0.75, max_leaf_nodes=200, min_samples_split=5, n_estimators=125;, score=0.947 total time=  19.9s\n",
      "[CV 2/5] END max_features=0.75, max_leaf_nodes=200, min_samples_split=5, n_estimators=125;, score=0.912 total time=  20.2s\n",
      "[CV 3/5] END max_features=0.75, max_leaf_nodes=200, min_samples_split=5, n_estimators=125;, score=0.967 total time=  20.7s\n",
      "[CV 5/5] END max_features=0.75, max_leaf_nodes=200, min_samples_split=5, n_estimators=125;, score=0.929 total time=  10.7s\n"
     ]
    },
    {
     "data": {
      "text/html": [
       "<style>#sk-container-id-2 {color: black;background-color: white;}#sk-container-id-2 pre{padding: 0;}#sk-container-id-2 div.sk-toggleable {background-color: white;}#sk-container-id-2 label.sk-toggleable__label {cursor: pointer;display: block;width: 100%;margin-bottom: 0;padding: 0.3em;box-sizing: border-box;text-align: center;}#sk-container-id-2 label.sk-toggleable__label-arrow:before {content: \"▸\";float: left;margin-right: 0.25em;color: #696969;}#sk-container-id-2 label.sk-toggleable__label-arrow:hover:before {color: black;}#sk-container-id-2 div.sk-estimator:hover label.sk-toggleable__label-arrow:before {color: black;}#sk-container-id-2 div.sk-toggleable__content {max-height: 0;max-width: 0;overflow: hidden;text-align: left;background-color: #f0f8ff;}#sk-container-id-2 div.sk-toggleable__content pre {margin: 0.2em;color: black;border-radius: 0.25em;background-color: #f0f8ff;}#sk-container-id-2 input.sk-toggleable__control:checked~div.sk-toggleable__content {max-height: 200px;max-width: 100%;overflow: auto;}#sk-container-id-2 input.sk-toggleable__control:checked~label.sk-toggleable__label-arrow:before {content: \"▾\";}#sk-container-id-2 div.sk-estimator input.sk-toggleable__control:checked~label.sk-toggleable__label {background-color: #d4ebff;}#sk-container-id-2 div.sk-label input.sk-toggleable__control:checked~label.sk-toggleable__label {background-color: #d4ebff;}#sk-container-id-2 input.sk-hidden--visually {border: 0;clip: rect(1px 1px 1px 1px);clip: rect(1px, 1px, 1px, 1px);height: 1px;margin: -1px;overflow: hidden;padding: 0;position: absolute;width: 1px;}#sk-container-id-2 div.sk-estimator {font-family: monospace;background-color: #f0f8ff;border: 1px dotted black;border-radius: 0.25em;box-sizing: border-box;margin-bottom: 0.5em;}#sk-container-id-2 div.sk-estimator:hover {background-color: #d4ebff;}#sk-container-id-2 div.sk-parallel-item::after {content: \"\";width: 100%;border-bottom: 1px solid gray;flex-grow: 1;}#sk-container-id-2 div.sk-label:hover label.sk-toggleable__label {background-color: #d4ebff;}#sk-container-id-2 div.sk-serial::before {content: \"\";position: absolute;border-left: 1px solid gray;box-sizing: border-box;top: 0;bottom: 0;left: 50%;z-index: 0;}#sk-container-id-2 div.sk-serial {display: flex;flex-direction: column;align-items: center;background-color: white;padding-right: 0.2em;padding-left: 0.2em;position: relative;}#sk-container-id-2 div.sk-item {position: relative;z-index: 1;}#sk-container-id-2 div.sk-parallel {display: flex;align-items: stretch;justify-content: center;background-color: white;position: relative;}#sk-container-id-2 div.sk-item::before, #sk-container-id-2 div.sk-parallel-item::before {content: \"\";position: absolute;border-left: 1px solid gray;box-sizing: border-box;top: 0;bottom: 0;left: 50%;z-index: -1;}#sk-container-id-2 div.sk-parallel-item {display: flex;flex-direction: column;z-index: 1;position: relative;background-color: white;}#sk-container-id-2 div.sk-parallel-item:first-child::after {align-self: flex-end;width: 50%;}#sk-container-id-2 div.sk-parallel-item:last-child::after {align-self: flex-start;width: 50%;}#sk-container-id-2 div.sk-parallel-item:only-child::after {width: 0;}#sk-container-id-2 div.sk-dashed-wrapped {border: 1px dashed gray;margin: 0 0.4em 0.5em 0.4em;box-sizing: border-box;padding-bottom: 0.4em;background-color: white;}#sk-container-id-2 div.sk-label label {font-family: monospace;font-weight: bold;display: inline-block;line-height: 1.2em;}#sk-container-id-2 div.sk-label-container {text-align: center;}#sk-container-id-2 div.sk-container {/* jupyter's `normalize.less` sets `[hidden] { display: none; }` but bootstrap.min.css set `[hidden] { display: none !important; }` so we also need the `!important` here to be able to override the default hidden behavior on the sphinx rendered scikit-learn.org. See: https://github.com/scikit-learn/scikit-learn/issues/21755 */display: inline-block !important;position: relative;}#sk-container-id-2 div.sk-text-repr-fallback {display: none;}</style><div id=\"sk-container-id-2\" class=\"sk-top-container\"><div class=\"sk-text-repr-fallback\"><pre>GridSearchCV(estimator=RandomForestClassifier(), n_jobs=-1,\n",
       "             param_grid={&#x27;max_features&#x27;: [0.75],\n",
       "                         &#x27;max_leaf_nodes&#x27;: [80, 110, 140, 170, 200],\n",
       "                         &#x27;min_samples_split&#x27;: [5], &#x27;n_estimators&#x27;: [125]},\n",
       "             scoring=make_scorer(matthews_corrcoef), verbose=5)</pre><b>In a Jupyter environment, please rerun this cell to show the HTML representation or trust the notebook. <br />On GitHub, the HTML representation is unable to render, please try loading this page with nbviewer.org.</b></div><div class=\"sk-container\" hidden><div class=\"sk-item sk-dashed-wrapped\"><div class=\"sk-label-container\"><div class=\"sk-label sk-toggleable\"><input class=\"sk-toggleable__control sk-hidden--visually\" id=\"sk-estimator-id-2\" type=\"checkbox\" ><label for=\"sk-estimator-id-2\" class=\"sk-toggleable__label sk-toggleable__label-arrow\">GridSearchCV</label><div class=\"sk-toggleable__content\"><pre>GridSearchCV(estimator=RandomForestClassifier(), n_jobs=-1,\n",
       "             param_grid={&#x27;max_features&#x27;: [0.75],\n",
       "                         &#x27;max_leaf_nodes&#x27;: [80, 110, 140, 170, 200],\n",
       "                         &#x27;min_samples_split&#x27;: [5], &#x27;n_estimators&#x27;: [125]},\n",
       "             scoring=make_scorer(matthews_corrcoef), verbose=5)</pre></div></div></div><div class=\"sk-parallel\"><div class=\"sk-parallel-item\"><div class=\"sk-item\"><div class=\"sk-label-container\"><div class=\"sk-label sk-toggleable\"><input class=\"sk-toggleable__control sk-hidden--visually\" id=\"sk-estimator-id-3\" type=\"checkbox\" ><label for=\"sk-estimator-id-3\" class=\"sk-toggleable__label sk-toggleable__label-arrow\">estimator: RandomForestClassifier</label><div class=\"sk-toggleable__content\"><pre>RandomForestClassifier()</pre></div></div></div><div class=\"sk-serial\"><div class=\"sk-item\"><div class=\"sk-estimator sk-toggleable\"><input class=\"sk-toggleable__control sk-hidden--visually\" id=\"sk-estimator-id-4\" type=\"checkbox\" ><label for=\"sk-estimator-id-4\" class=\"sk-toggleable__label sk-toggleable__label-arrow\">RandomForestClassifier</label><div class=\"sk-toggleable__content\"><pre>RandomForestClassifier()</pre></div></div></div></div></div></div></div></div></div></div>"
      ],
      "text/plain": [
       "GridSearchCV(estimator=RandomForestClassifier(), n_jobs=-1,\n",
       "             param_grid={'max_features': [0.75],\n",
       "                         'max_leaf_nodes': [80, 110, 140, 170, 200],\n",
       "                         'min_samples_split': [5], 'n_estimators': [125]},\n",
       "             scoring=make_scorer(matthews_corrcoef), verbose=5)"
      ]
     },
     "execution_count": 15,
     "metadata": {},
     "output_type": "execute_result"
    }
   ],
   "source": [
    "rand_grid.fit(X_train, y_train)"
   ]
  },
  {
   "cell_type": "code",
   "execution_count": 16,
   "metadata": {},
   "outputs": [
    {
     "data": {
      "text/plain": [
       "{'max_features': 0.75,\n",
       " 'max_leaf_nodes': 80,\n",
       " 'min_samples_split': 5,\n",
       " 'n_estimators': 125}"
      ]
     },
     "execution_count": 16,
     "metadata": {},
     "output_type": "execute_result"
    }
   ],
   "source": [
    "rand_grid.best_params_"
   ]
  },
  {
   "cell_type": "code",
   "execution_count": 17,
   "metadata": {},
   "outputs": [],
   "source": [
    "y_pred_grid = rand_grid.best_estimator_.predict(X_test)"
   ]
  },
  {
   "cell_type": "code",
   "execution_count": 18,
   "metadata": {},
   "outputs": [
    {
     "name": "stdout",
     "output_type": "stream",
     "text": [
      "Recall is:0.792\n",
      "MCC is:0.878\n"
     ]
    }
   ],
   "source": [
    "print(f\"Recall is:{round(recall_score(y_test, y_pred_grid),3)}\")\n",
    "print(f\"MCC is:{round(matthews_corrcoef(y_test, y_pred_grid),3)}\")"
   ]
  },
  {
   "cell_type": "code",
   "execution_count": 19,
   "metadata": {},
   "outputs": [
    {
     "data": {
      "text/plain": [
       "array([[23867,     1],\n",
       "       [   10,    38]])"
      ]
     },
     "execution_count": 19,
     "metadata": {},
     "output_type": "execute_result"
    }
   ],
   "source": [
    "confusion_matrix(y_test, y_pred_grid)"
   ]
  },
  {
   "cell_type": "code",
   "execution_count": 20,
   "metadata": {},
   "outputs": [
    {
     "name": "stdout",
     "output_type": "stream",
     "text": [
      "You saved the company 86.02 Million UGX\n",
      "The company still has to reimburse frauds with a total of 11.8 Million UGX\n",
      "Total money saved is 74.22 Million UGX\n"
     ]
    }
   ],
   "source": [
    "calculate_cost(X_test_unscaled, y_test, y_pred_grid)"
   ]
  },
  {
   "cell_type": "code",
   "execution_count": null,
   "metadata": {},
   "outputs": [],
   "source": [
    "\"\"\"{'max_features': 0.75,\n",
    " 'max_leaf_nodes': 80,\n",
    " 'min_samples_split': 5,\n",
    " 'n_estimators': 125}\n",
    "\n",
    " Recall is:0.792\n",
    "MCC is:0.878\n",
    "\n",
    "You saved the company 86.02 Million UGX\n",
    "The company still has to reimburse frauds with a total of 11.8 Million UGX\n",
    "Total money saved is 74.22 Million UGX\"\"\""
   ]
  },
  {
   "cell_type": "code",
   "execution_count": null,
   "metadata": {},
   "outputs": [],
   "source": []
  },
  {
   "cell_type": "code",
   "execution_count": 21,
   "metadata": {},
   "outputs": [
    {
     "data": {
      "text/plain": [
       "\"Recall is:0.7916666666666666\\nROC-AUC is:0.895812384782973\\nF1 is:0.8735632183908045\\nF-beta is:0.9313725490196079\\nMCC is:0.8780632982539146\\n\\n{'max_features': 0.75,\\n 'max_leaf_nodes': 100,\\n 'min_samples_split': 5,\\n 'n_estimators': 125}\""
      ]
     },
     "execution_count": 21,
     "metadata": {},
     "output_type": "execute_result"
    }
   ],
   "source": [
    "\"\"\"param_grid = {'n_estimators': #np.linspace(100, 200, 5).astype(int),\n",
    "                    'max_depth': [None] + list(np.linspace(3, 100, 10).astype(int)),\n",
    "                    'max_features': [0.75], ['sqrt']+ list(np.arange(0.5, 1, 0.25)),\n",
    "                    'max_leaf_nodes': list(np.linspace(80, 100, 5).astype(int)) + [None],\n",
    "                    'min_samples_split':[2, 5, 10, 50]\n",
    "                    }\n",
    "\n",
    "scorer = make_scorer(matthews_corrcoef)\n",
    "\n",
    "rand_grid = GridSearchCV(rf, param_grid=param_grid, n_jobs=-1, scoring=scorer, verbose=5)\n",
    "\n",
    "Recall is:0.7916666666666666\n",
    "ROC-AUC is:0.895812384782973\n",
    "F1 is:0.8735632183908045\n",
    "F-beta is:0.9313725490196079\n",
    "MCC is:0.8780632982539146\n",
    "\n",
    "{'max_features': 0.75,\n",
    " 'max_leaf_nodes': 100,\n",
    " 'min_samples_split': 5,\n",
    " 'n_estimators': 125}\"\"\""
   ]
  }
 ],
 "metadata": {
  "kernelspec": {
   "display_name": "Python 3.9.8 ('.venv': venv)",
   "language": "python",
   "name": "python3"
  },
  "language_info": {
   "codemirror_mode": {
    "name": "ipython",
    "version": 3
   },
   "file_extension": ".py",
   "mimetype": "text/x-python",
   "name": "python",
   "nbconvert_exporter": "python",
   "pygments_lexer": "ipython3",
   "version": "3.9.8"
  },
  "orig_nbformat": 4,
  "vscode": {
   "interpreter": {
    "hash": "3655354e26834e2173e36e5ac925a0f8623daba597fae37f2d44dc4edabae95a"
   }
  }
 },
 "nbformat": 4,
 "nbformat_minor": 2
}
