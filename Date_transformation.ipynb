{
 "cells": [
  {
   "cell_type": "code",
   "execution_count": 1,
   "metadata": {},
   "outputs": [],
   "source": [
    "import pandas as pd"
   ]
  },
  {
   "cell_type": "code",
   "execution_count": 2,
   "metadata": {},
   "outputs": [],
   "source": [
    "# Import data\n",
    "\n",
    "df = pd.read_csv('data/training.csv')"
   ]
  },
  {
   "cell_type": "code",
   "execution_count": 3,
   "metadata": {},
   "outputs": [
    {
     "data": {
      "text/plain": [
       "0    2018-11-15T02:18:49Z\n",
       "1    2018-11-15T02:19:08Z\n",
       "2    2018-11-15T02:44:21Z\n",
       "3    2018-11-15T03:32:55Z\n",
       "4    2018-11-15T03:34:21Z\n",
       "Name: TransactionStartTime, dtype: object"
      ]
     },
     "execution_count": 3,
     "metadata": {},
     "output_type": "execute_result"
    }
   ],
   "source": [
    "df['TransactionStartTime'].head()"
   ]
  },
  {
   "cell_type": "code",
   "execution_count": 4,
   "metadata": {},
   "outputs": [],
   "source": [
    "# Transform type object to type datetime\n",
    "\n",
    "df['TransactionStartTime'] = pd.to_datetime(df['TransactionStartTime'])"
   ]
  },
  {
   "cell_type": "code",
   "execution_count": 5,
   "metadata": {},
   "outputs": [
    {
     "data": {
      "text/plain": [
       "0   2018-11-15 02:18:49+00:00\n",
       "1   2018-11-15 02:19:08+00:00\n",
       "2   2018-11-15 02:44:21+00:00\n",
       "3   2018-11-15 03:32:55+00:00\n",
       "4   2018-11-15 03:34:21+00:00\n",
       "Name: TransactionStartTime, dtype: datetime64[ns, UTC]"
      ]
     },
     "execution_count": 5,
     "metadata": {},
     "output_type": "execute_result"
    }
   ],
   "source": [
    "df['TransactionStartTime'].head()"
   ]
  },
  {
   "cell_type": "code",
   "execution_count": 6,
   "metadata": {},
   "outputs": [],
   "source": [
    "# Split date and time\n",
    "\n",
    "df['Date'] = df['TransactionStartTime'].dt.date\n",
    "df['Time'] = df['TransactionStartTime'].dt.time"
   ]
  },
  {
   "cell_type": "code",
   "execution_count": 7,
   "metadata": {},
   "outputs": [
    {
     "data": {
      "text/plain": [
       "0    2018-11-15\n",
       "1    2018-11-15\n",
       "2    2018-11-15\n",
       "3    2018-11-15\n",
       "4    2018-11-15\n",
       "Name: Date, dtype: object"
      ]
     },
     "execution_count": 7,
     "metadata": {},
     "output_type": "execute_result"
    }
   ],
   "source": [
    "df['Date'].head()"
   ]
  },
  {
   "cell_type": "code",
   "execution_count": 8,
   "metadata": {},
   "outputs": [
    {
     "data": {
      "text/plain": [
       "0    02:18:49\n",
       "1    02:19:08\n",
       "2    02:44:21\n",
       "3    03:32:55\n",
       "4    03:34:21\n",
       "Name: Time, dtype: object"
      ]
     },
     "execution_count": 8,
     "metadata": {},
     "output_type": "execute_result"
    }
   ],
   "source": [
    "df['Time'].head()"
   ]
  },
  {
   "cell_type": "code",
   "execution_count": 9,
   "metadata": {},
   "outputs": [],
   "source": [
    "# Split Date into year, month, day and day of week\n",
    "\n",
    "df['Year'] = df['TransactionStartTime'].dt.year\n",
    "df['Month'] = df['TransactionStartTime'].dt.month\n",
    "df['Day'] = df['TransactionStartTime'].dt.day\n",
    "\n",
    "# 0 = Monday - 6 = Sunday\n",
    "\n",
    "df['Day_of_week'] = df['TransactionStartTime'].dt.dayofweek\n"
   ]
  },
  {
   "cell_type": "code",
   "execution_count": 10,
   "metadata": {},
   "outputs": [
    {
     "data": {
      "text/plain": [
       "0    3\n",
       "1    3\n",
       "2    3\n",
       "3    3\n",
       "4    3\n",
       "Name: Day_of_week, dtype: int64"
      ]
     },
     "execution_count": 10,
     "metadata": {},
     "output_type": "execute_result"
    }
   ],
   "source": [
    "df['Day_of_week'].head()"
   ]
  },
  {
   "cell_type": "code",
   "execution_count": 12,
   "metadata": {},
   "outputs": [],
   "source": [
    "# Convert Date to type datetime\n",
    "\n",
    "df['Date'] = pd.to_datetime(df['Date'])"
   ]
  },
  {
   "cell_type": "code",
   "execution_count": 13,
   "metadata": {},
   "outputs": [],
   "source": [
    "# Create a new dataframe with transactions between 07:00 and 18:00 on workdays. \n",
    "# Indices changed! Search for TransactionID!!!\n",
    "\n",
    "df_filtered = (df.set_index('TransactionStartTime').between_time('07:00:00', '18:00:00').reset_index().reindex(columns=df.columns))\n",
    "df_filtered = df_filtered.query('Day_of_week != 5' and 'Day_of_week != 6')"
   ]
  },
  {
   "cell_type": "code",
   "execution_count": 18,
   "metadata": {},
   "outputs": [
    {
     "data": {
      "text/html": [
       "<div>\n",
       "<style scoped>\n",
       "    .dataframe tbody tr th:only-of-type {\n",
       "        vertical-align: middle;\n",
       "    }\n",
       "\n",
       "    .dataframe tbody tr th {\n",
       "        vertical-align: top;\n",
       "    }\n",
       "\n",
       "    .dataframe thead th {\n",
       "        text-align: right;\n",
       "    }\n",
       "</style>\n",
       "<table border=\"1\" class=\"dataframe\">\n",
       "  <thead>\n",
       "    <tr style=\"text-align: right;\">\n",
       "      <th></th>\n",
       "      <th>TransactionId</th>\n",
       "      <th>BatchId</th>\n",
       "      <th>AccountId</th>\n",
       "      <th>SubscriptionId</th>\n",
       "      <th>CustomerId</th>\n",
       "      <th>CurrencyCode</th>\n",
       "      <th>CountryCode</th>\n",
       "      <th>ProviderId</th>\n",
       "      <th>ProductId</th>\n",
       "      <th>ProductCategory</th>\n",
       "      <th>...</th>\n",
       "      <th>Value</th>\n",
       "      <th>TransactionStartTime</th>\n",
       "      <th>PricingStrategy</th>\n",
       "      <th>FraudResult</th>\n",
       "      <th>Date</th>\n",
       "      <th>Time</th>\n",
       "      <th>Year</th>\n",
       "      <th>Month</th>\n",
       "      <th>Day</th>\n",
       "      <th>Day_of_week</th>\n",
       "    </tr>\n",
       "  </thead>\n",
       "  <tbody>\n",
       "    <tr>\n",
       "      <th>0</th>\n",
       "      <td>TransactionId_78064</td>\n",
       "      <td>BatchId_49408</td>\n",
       "      <td>AccountId_460</td>\n",
       "      <td>SubscriptionId_2976</td>\n",
       "      <td>CustomerId_790</td>\n",
       "      <td>UGX</td>\n",
       "      <td>256</td>\n",
       "      <td>ProviderId_3</td>\n",
       "      <td>ProductId_3</td>\n",
       "      <td>airtime</td>\n",
       "      <td>...</td>\n",
       "      <td>10000</td>\n",
       "      <td>2018-11-15 07:00:04+00:00</td>\n",
       "      <td>1</td>\n",
       "      <td>0</td>\n",
       "      <td>2018-11-15</td>\n",
       "      <td>07:00:04</td>\n",
       "      <td>2018</td>\n",
       "      <td>11</td>\n",
       "      <td>15</td>\n",
       "      <td>3</td>\n",
       "    </tr>\n",
       "    <tr>\n",
       "      <th>1</th>\n",
       "      <td>TransactionId_91257</td>\n",
       "      <td>BatchId_22084</td>\n",
       "      <td>AccountId_335</td>\n",
       "      <td>SubscriptionId_3204</td>\n",
       "      <td>CustomerId_665</td>\n",
       "      <td>UGX</td>\n",
       "      <td>256</td>\n",
       "      <td>ProviderId_6</td>\n",
       "      <td>ProductId_10</td>\n",
       "      <td>airtime</td>\n",
       "      <td>...</td>\n",
       "      <td>1000</td>\n",
       "      <td>2018-11-15 07:01:44+00:00</td>\n",
       "      <td>2</td>\n",
       "      <td>0</td>\n",
       "      <td>2018-11-15</td>\n",
       "      <td>07:01:44</td>\n",
       "      <td>2018</td>\n",
       "      <td>11</td>\n",
       "      <td>15</td>\n",
       "      <td>3</td>\n",
       "    </tr>\n",
       "    <tr>\n",
       "      <th>2</th>\n",
       "      <td>TransactionId_74975</td>\n",
       "      <td>BatchId_100500</td>\n",
       "      <td>AccountId_4249</td>\n",
       "      <td>SubscriptionId_4429</td>\n",
       "      <td>CustomerId_7476</td>\n",
       "      <td>UGX</td>\n",
       "      <td>256</td>\n",
       "      <td>ProviderId_4</td>\n",
       "      <td>ProductId_10</td>\n",
       "      <td>airtime</td>\n",
       "      <td>...</td>\n",
       "      <td>1000</td>\n",
       "      <td>2018-11-15 07:01:52+00:00</td>\n",
       "      <td>4</td>\n",
       "      <td>0</td>\n",
       "      <td>2018-11-15</td>\n",
       "      <td>07:01:52</td>\n",
       "      <td>2018</td>\n",
       "      <td>11</td>\n",
       "      <td>15</td>\n",
       "      <td>3</td>\n",
       "    </tr>\n",
       "    <tr>\n",
       "      <th>3</th>\n",
       "      <td>TransactionId_17884</td>\n",
       "      <td>BatchId_55269</td>\n",
       "      <td>AccountId_4841</td>\n",
       "      <td>SubscriptionId_3829</td>\n",
       "      <td>CustomerId_665</td>\n",
       "      <td>UGX</td>\n",
       "      <td>256</td>\n",
       "      <td>ProviderId_4</td>\n",
       "      <td>ProductId_6</td>\n",
       "      <td>financial_services</td>\n",
       "      <td>...</td>\n",
       "      <td>20</td>\n",
       "      <td>2018-11-15 07:01:56+00:00</td>\n",
       "      <td>2</td>\n",
       "      <td>0</td>\n",
       "      <td>2018-11-15</td>\n",
       "      <td>07:01:56</td>\n",
       "      <td>2018</td>\n",
       "      <td>11</td>\n",
       "      <td>15</td>\n",
       "      <td>3</td>\n",
       "    </tr>\n",
       "    <tr>\n",
       "      <th>4</th>\n",
       "      <td>TransactionId_82712</td>\n",
       "      <td>BatchId_97008</td>\n",
       "      <td>AccountId_1709</td>\n",
       "      <td>SubscriptionId_2587</td>\n",
       "      <td>CustomerId_2094</td>\n",
       "      <td>UGX</td>\n",
       "      <td>256</td>\n",
       "      <td>ProviderId_6</td>\n",
       "      <td>ProductId_10</td>\n",
       "      <td>airtime</td>\n",
       "      <td>...</td>\n",
       "      <td>500</td>\n",
       "      <td>2018-11-15 07:02:45+00:00</td>\n",
       "      <td>2</td>\n",
       "      <td>0</td>\n",
       "      <td>2018-11-15</td>\n",
       "      <td>07:02:45</td>\n",
       "      <td>2018</td>\n",
       "      <td>11</td>\n",
       "      <td>15</td>\n",
       "      <td>3</td>\n",
       "    </tr>\n",
       "  </tbody>\n",
       "</table>\n",
       "<p>5 rows × 22 columns</p>\n",
       "</div>"
      ],
      "text/plain": [
       "         TransactionId         BatchId       AccountId       SubscriptionId  \\\n",
       "0  TransactionId_78064   BatchId_49408   AccountId_460  SubscriptionId_2976   \n",
       "1  TransactionId_91257   BatchId_22084   AccountId_335  SubscriptionId_3204   \n",
       "2  TransactionId_74975  BatchId_100500  AccountId_4249  SubscriptionId_4429   \n",
       "3  TransactionId_17884   BatchId_55269  AccountId_4841  SubscriptionId_3829   \n",
       "4  TransactionId_82712   BatchId_97008  AccountId_1709  SubscriptionId_2587   \n",
       "\n",
       "        CustomerId CurrencyCode  CountryCode    ProviderId     ProductId  \\\n",
       "0   CustomerId_790          UGX          256  ProviderId_3   ProductId_3   \n",
       "1   CustomerId_665          UGX          256  ProviderId_6  ProductId_10   \n",
       "2  CustomerId_7476          UGX          256  ProviderId_4  ProductId_10   \n",
       "3   CustomerId_665          UGX          256  ProviderId_4   ProductId_6   \n",
       "4  CustomerId_2094          UGX          256  ProviderId_6  ProductId_10   \n",
       "\n",
       "      ProductCategory  ...  Value      TransactionStartTime  PricingStrategy  \\\n",
       "0             airtime  ...  10000 2018-11-15 07:00:04+00:00                1   \n",
       "1             airtime  ...   1000 2018-11-15 07:01:44+00:00                2   \n",
       "2             airtime  ...   1000 2018-11-15 07:01:52+00:00                4   \n",
       "3  financial_services  ...     20 2018-11-15 07:01:56+00:00                2   \n",
       "4             airtime  ...    500 2018-11-15 07:02:45+00:00                2   \n",
       "\n",
       "  FraudResult       Date      Time  Year Month  Day  Day_of_week  \n",
       "0           0 2018-11-15  07:00:04  2018    11   15            3  \n",
       "1           0 2018-11-15  07:01:44  2018    11   15            3  \n",
       "2           0 2018-11-15  07:01:52  2018    11   15            3  \n",
       "3           0 2018-11-15  07:01:56  2018    11   15            3  \n",
       "4           0 2018-11-15  07:02:45  2018    11   15            3  \n",
       "\n",
       "[5 rows x 22 columns]"
      ]
     },
     "execution_count": 18,
     "metadata": {},
     "output_type": "execute_result"
    }
   ],
   "source": [
    "df_filtered.head()"
   ]
  }
 ],
 "metadata": {
  "kernelspec": {
   "display_name": "Python 3.9.8 ('.venv': venv)",
   "language": "python",
   "name": "python3"
  },
  "language_info": {
   "codemirror_mode": {
    "name": "ipython",
    "version": 3
   },
   "file_extension": ".py",
   "mimetype": "text/x-python",
   "name": "python",
   "nbconvert_exporter": "python",
   "pygments_lexer": "ipython3",
   "version": "3.9.8"
  },
  "orig_nbformat": 4,
  "vscode": {
   "interpreter": {
    "hash": "e48538ccf8b5500c544bf913cad555972235d69560c87a6bf54dcc8e9d28b9c6"
   }
  }
 },
 "nbformat": 4,
 "nbformat_minor": 2
}
