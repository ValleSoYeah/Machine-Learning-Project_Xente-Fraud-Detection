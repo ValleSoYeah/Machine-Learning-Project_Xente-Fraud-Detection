{
 "cells": [
  {
   "cell_type": "code",
   "execution_count": 1,
   "metadata": {},
   "outputs": [],
   "source": [
    "import pandas as pd\n",
    "from sklearn.linear_model import LogisticRegression\n",
    "from sklearn.model_selection import train_test_split"
   ]
  },
  {
   "cell_type": "code",
   "execution_count": 2,
   "metadata": {},
   "outputs": [],
   "source": [
    "df= pd.read_csv(\"data/training_preprocessed.csv\")\n",
    "y= df.FraudResult\n",
    "df.drop(\"FraudResult\", axis=1, inplace=True)\n",
    "X= df\n",
    "X.drop([\"TransactionId\"], axis=1, inplace=True)"
   ]
  },
  {
   "cell_type": "code",
   "execution_count": 3,
   "metadata": {},
   "outputs": [],
   "source": [
    "X_train, X_test, y_train, y_test = train_test_split(X, y, stratify=y)"
   ]
  },
  {
   "cell_type": "code",
   "execution_count": 4,
   "metadata": {},
   "outputs": [],
   "source": [
    "lr= LogisticRegression()\n",
    "lr.fit(X_train, y_train)\n",
    "y_pred = lr.predict(X_test)\n"
   ]
  },
  {
   "cell_type": "code",
   "execution_count": 5,
   "metadata": {},
   "outputs": [
    {
     "data": {
      "text/html": [
       "<div>\n",
       "<style scoped>\n",
       "    .dataframe tbody tr th:only-of-type {\n",
       "        vertical-align: middle;\n",
       "    }\n",
       "\n",
       "    .dataframe tbody tr th {\n",
       "        vertical-align: top;\n",
       "    }\n",
       "\n",
       "    .dataframe thead th {\n",
       "        text-align: right;\n",
       "    }\n",
       "</style>\n",
       "<table border=\"1\" class=\"dataframe\">\n",
       "  <thead>\n",
       "    <tr style=\"text-align: right;\">\n",
       "      <th></th>\n",
       "      <th>Year</th>\n",
       "      <th>Month</th>\n",
       "      <th>Week</th>\n",
       "      <th>Day</th>\n",
       "      <th>is_workday</th>\n",
       "      <th>is_worktime</th>\n",
       "      <th>SignAmount</th>\n",
       "      <th>ModAmount</th>\n",
       "      <th>ProviderId_1</th>\n",
       "      <th>ProviderId_2</th>\n",
       "      <th>...</th>\n",
       "      <th>batch_size</th>\n",
       "      <th>total_transactions_by_customer</th>\n",
       "      <th>transactions_by_customer_this_month</th>\n",
       "      <th>transactions_by_customer_this_week</th>\n",
       "      <th>transactions_by_customer_this_day</th>\n",
       "      <th>day_vs_week</th>\n",
       "      <th>day_vs_month</th>\n",
       "      <th>week_vs_month</th>\n",
       "      <th>y_true</th>\n",
       "      <th>y_pred</th>\n",
       "    </tr>\n",
       "  </thead>\n",
       "  <tbody>\n",
       "    <tr>\n",
       "      <th>51838</th>\n",
       "      <td>2019</td>\n",
       "      <td>1</td>\n",
       "      <td>1</td>\n",
       "      <td>6</td>\n",
       "      <td>0</td>\n",
       "      <td>0</td>\n",
       "      <td>1</td>\n",
       "      <td>1000.0</td>\n",
       "      <td>0</td>\n",
       "      <td>0</td>\n",
       "      <td>...</td>\n",
       "      <td>1</td>\n",
       "      <td>399</td>\n",
       "      <td>359</td>\n",
       "      <td>54</td>\n",
       "      <td>20</td>\n",
       "      <td>0.370370</td>\n",
       "      <td>0.055710</td>\n",
       "      <td>0.150418</td>\n",
       "      <td>0</td>\n",
       "      <td>0</td>\n",
       "    </tr>\n",
       "    <tr>\n",
       "      <th>27114</th>\n",
       "      <td>2018</td>\n",
       "      <td>12</td>\n",
       "      <td>50</td>\n",
       "      <td>14</td>\n",
       "      <td>1</td>\n",
       "      <td>1</td>\n",
       "      <td>1</td>\n",
       "      <td>2500.0</td>\n",
       "      <td>0</td>\n",
       "      <td>0</td>\n",
       "      <td>...</td>\n",
       "      <td>1</td>\n",
       "      <td>778</td>\n",
       "      <td>388</td>\n",
       "      <td>133</td>\n",
       "      <td>20</td>\n",
       "      <td>0.150376</td>\n",
       "      <td>0.051546</td>\n",
       "      <td>0.342784</td>\n",
       "      <td>0</td>\n",
       "      <td>0</td>\n",
       "    </tr>\n",
       "    <tr>\n",
       "      <th>55266</th>\n",
       "      <td>2019</td>\n",
       "      <td>1</td>\n",
       "      <td>2</td>\n",
       "      <td>9</td>\n",
       "      <td>1</td>\n",
       "      <td>1</td>\n",
       "      <td>1</td>\n",
       "      <td>1040.0</td>\n",
       "      <td>0</td>\n",
       "      <td>0</td>\n",
       "      <td>...</td>\n",
       "      <td>1</td>\n",
       "      <td>24</td>\n",
       "      <td>10</td>\n",
       "      <td>10</td>\n",
       "      <td>4</td>\n",
       "      <td>0.400000</td>\n",
       "      <td>0.400000</td>\n",
       "      <td>1.000000</td>\n",
       "      <td>0</td>\n",
       "      <td>0</td>\n",
       "    </tr>\n",
       "    <tr>\n",
       "      <th>59708</th>\n",
       "      <td>2019</td>\n",
       "      <td>1</td>\n",
       "      <td>2</td>\n",
       "      <td>13</td>\n",
       "      <td>0</td>\n",
       "      <td>0</td>\n",
       "      <td>1</td>\n",
       "      <td>20000.0</td>\n",
       "      <td>0</td>\n",
       "      <td>0</td>\n",
       "      <td>...</td>\n",
       "      <td>1</td>\n",
       "      <td>57</td>\n",
       "      <td>27</td>\n",
       "      <td>7</td>\n",
       "      <td>2</td>\n",
       "      <td>0.285714</td>\n",
       "      <td>0.074074</td>\n",
       "      <td>0.259259</td>\n",
       "      <td>0</td>\n",
       "      <td>0</td>\n",
       "    </tr>\n",
       "    <tr>\n",
       "      <th>36773</th>\n",
       "      <td>2018</td>\n",
       "      <td>12</td>\n",
       "      <td>51</td>\n",
       "      <td>22</td>\n",
       "      <td>0</td>\n",
       "      <td>1</td>\n",
       "      <td>1</td>\n",
       "      <td>2000.0</td>\n",
       "      <td>0</td>\n",
       "      <td>0</td>\n",
       "      <td>...</td>\n",
       "      <td>1</td>\n",
       "      <td>120</td>\n",
       "      <td>71</td>\n",
       "      <td>13</td>\n",
       "      <td>1</td>\n",
       "      <td>0.076923</td>\n",
       "      <td>0.014085</td>\n",
       "      <td>0.183099</td>\n",
       "      <td>0</td>\n",
       "      <td>0</td>\n",
       "    </tr>\n",
       "    <tr>\n",
       "      <th>...</th>\n",
       "      <td>...</td>\n",
       "      <td>...</td>\n",
       "      <td>...</td>\n",
       "      <td>...</td>\n",
       "      <td>...</td>\n",
       "      <td>...</td>\n",
       "      <td>...</td>\n",
       "      <td>...</td>\n",
       "      <td>...</td>\n",
       "      <td>...</td>\n",
       "      <td>...</td>\n",
       "      <td>...</td>\n",
       "      <td>...</td>\n",
       "      <td>...</td>\n",
       "      <td>...</td>\n",
       "      <td>...</td>\n",
       "      <td>...</td>\n",
       "      <td>...</td>\n",
       "      <td>...</td>\n",
       "      <td>...</td>\n",
       "      <td>...</td>\n",
       "    </tr>\n",
       "    <tr>\n",
       "      <th>68549</th>\n",
       "      <td>2019</td>\n",
       "      <td>1</td>\n",
       "      <td>4</td>\n",
       "      <td>22</td>\n",
       "      <td>1</td>\n",
       "      <td>0</td>\n",
       "      <td>1</td>\n",
       "      <td>1000.0</td>\n",
       "      <td>0</td>\n",
       "      <td>0</td>\n",
       "      <td>...</td>\n",
       "      <td>2</td>\n",
       "      <td>7</td>\n",
       "      <td>5</td>\n",
       "      <td>4</td>\n",
       "      <td>4</td>\n",
       "      <td>1.000000</td>\n",
       "      <td>0.800000</td>\n",
       "      <td>0.800000</td>\n",
       "      <td>0</td>\n",
       "      <td>0</td>\n",
       "    </tr>\n",
       "    <tr>\n",
       "      <th>71039</th>\n",
       "      <td>2019</td>\n",
       "      <td>1</td>\n",
       "      <td>4</td>\n",
       "      <td>25</td>\n",
       "      <td>1</td>\n",
       "      <td>1</td>\n",
       "      <td>1</td>\n",
       "      <td>10000.0</td>\n",
       "      <td>1</td>\n",
       "      <td>0</td>\n",
       "      <td>...</td>\n",
       "      <td>1</td>\n",
       "      <td>20</td>\n",
       "      <td>11</td>\n",
       "      <td>5</td>\n",
       "      <td>4</td>\n",
       "      <td>0.800000</td>\n",
       "      <td>0.363636</td>\n",
       "      <td>0.454545</td>\n",
       "      <td>0</td>\n",
       "      <td>0</td>\n",
       "    </tr>\n",
       "    <tr>\n",
       "      <th>34586</th>\n",
       "      <td>2018</td>\n",
       "      <td>12</td>\n",
       "      <td>51</td>\n",
       "      <td>21</td>\n",
       "      <td>1</td>\n",
       "      <td>0</td>\n",
       "      <td>1</td>\n",
       "      <td>3800.0</td>\n",
       "      <td>0</td>\n",
       "      <td>0</td>\n",
       "      <td>...</td>\n",
       "      <td>1</td>\n",
       "      <td>100</td>\n",
       "      <td>36</td>\n",
       "      <td>7</td>\n",
       "      <td>5</td>\n",
       "      <td>0.714286</td>\n",
       "      <td>0.138889</td>\n",
       "      <td>0.194444</td>\n",
       "      <td>0</td>\n",
       "      <td>0</td>\n",
       "    </tr>\n",
       "    <tr>\n",
       "      <th>62967</th>\n",
       "      <td>2019</td>\n",
       "      <td>1</td>\n",
       "      <td>3</td>\n",
       "      <td>18</td>\n",
       "      <td>1</td>\n",
       "      <td>0</td>\n",
       "      <td>1</td>\n",
       "      <td>1000.0</td>\n",
       "      <td>0</td>\n",
       "      <td>0</td>\n",
       "      <td>...</td>\n",
       "      <td>1</td>\n",
       "      <td>74</td>\n",
       "      <td>27</td>\n",
       "      <td>25</td>\n",
       "      <td>7</td>\n",
       "      <td>0.280000</td>\n",
       "      <td>0.259259</td>\n",
       "      <td>0.925926</td>\n",
       "      <td>0</td>\n",
       "      <td>0</td>\n",
       "    </tr>\n",
       "    <tr>\n",
       "      <th>75742</th>\n",
       "      <td>2019</td>\n",
       "      <td>1</td>\n",
       "      <td>5</td>\n",
       "      <td>28</td>\n",
       "      <td>1</td>\n",
       "      <td>1</td>\n",
       "      <td>1</td>\n",
       "      <td>1000.0</td>\n",
       "      <td>0</td>\n",
       "      <td>0</td>\n",
       "      <td>...</td>\n",
       "      <td>1</td>\n",
       "      <td>612</td>\n",
       "      <td>288</td>\n",
       "      <td>82</td>\n",
       "      <td>12</td>\n",
       "      <td>0.146341</td>\n",
       "      <td>0.041667</td>\n",
       "      <td>0.284722</td>\n",
       "      <td>0</td>\n",
       "      <td>0</td>\n",
       "    </tr>\n",
       "  </tbody>\n",
       "</table>\n",
       "<p>23916 rows × 64 columns</p>\n",
       "</div>"
      ],
      "text/plain": [
       "       Year  Month  Week  Day  is_workday  is_worktime  SignAmount  ModAmount  \\\n",
       "51838  2019      1     1    6           0            0           1     1000.0   \n",
       "27114  2018     12    50   14           1            1           1     2500.0   \n",
       "55266  2019      1     2    9           1            1           1     1040.0   \n",
       "59708  2019      1     2   13           0            0           1    20000.0   \n",
       "36773  2018     12    51   22           0            1           1     2000.0   \n",
       "...     ...    ...   ...  ...         ...          ...         ...        ...   \n",
       "68549  2019      1     4   22           1            0           1     1000.0   \n",
       "71039  2019      1     4   25           1            1           1    10000.0   \n",
       "34586  2018     12    51   21           1            0           1     3800.0   \n",
       "62967  2019      1     3   18           1            0           1     1000.0   \n",
       "75742  2019      1     5   28           1            1           1     1000.0   \n",
       "\n",
       "       ProviderId_1  ProviderId_2  ...  batch_size  \\\n",
       "51838             0             0  ...           1   \n",
       "27114             0             0  ...           1   \n",
       "55266             0             0  ...           1   \n",
       "59708             0             0  ...           1   \n",
       "36773             0             0  ...           1   \n",
       "...             ...           ...  ...         ...   \n",
       "68549             0             0  ...           2   \n",
       "71039             1             0  ...           1   \n",
       "34586             0             0  ...           1   \n",
       "62967             0             0  ...           1   \n",
       "75742             0             0  ...           1   \n",
       "\n",
       "       total_transactions_by_customer  transactions_by_customer_this_month  \\\n",
       "51838                             399                                  359   \n",
       "27114                             778                                  388   \n",
       "55266                              24                                   10   \n",
       "59708                              57                                   27   \n",
       "36773                             120                                   71   \n",
       "...                               ...                                  ...   \n",
       "68549                               7                                    5   \n",
       "71039                              20                                   11   \n",
       "34586                             100                                   36   \n",
       "62967                              74                                   27   \n",
       "75742                             612                                  288   \n",
       "\n",
       "       transactions_by_customer_this_week  transactions_by_customer_this_day  \\\n",
       "51838                                  54                                 20   \n",
       "27114                                 133                                 20   \n",
       "55266                                  10                                  4   \n",
       "59708                                   7                                  2   \n",
       "36773                                  13                                  1   \n",
       "...                                   ...                                ...   \n",
       "68549                                   4                                  4   \n",
       "71039                                   5                                  4   \n",
       "34586                                   7                                  5   \n",
       "62967                                  25                                  7   \n",
       "75742                                  82                                 12   \n",
       "\n",
       "       day_vs_week  day_vs_month  week_vs_month  y_true  y_pred  \n",
       "51838     0.370370      0.055710       0.150418       0       0  \n",
       "27114     0.150376      0.051546       0.342784       0       0  \n",
       "55266     0.400000      0.400000       1.000000       0       0  \n",
       "59708     0.285714      0.074074       0.259259       0       0  \n",
       "36773     0.076923      0.014085       0.183099       0       0  \n",
       "...            ...           ...            ...     ...     ...  \n",
       "68549     1.000000      0.800000       0.800000       0       0  \n",
       "71039     0.800000      0.363636       0.454545       0       0  \n",
       "34586     0.714286      0.138889       0.194444       0       0  \n",
       "62967     0.280000      0.259259       0.925926       0       0  \n",
       "75742     0.146341      0.041667       0.284722       0       0  \n",
       "\n",
       "[23916 rows x 64 columns]"
      ]
     },
     "execution_count": 5,
     "metadata": {},
     "output_type": "execute_result"
    }
   ],
   "source": [
    "test_comb = X_test\n",
    "test_comb[\"y_true\"] = y_test\n",
    "test_comb[\"y_pred\"] = y_pred\n",
    "test_comb"
   ]
  },
  {
   "cell_type": "code",
   "execution_count": 6,
   "metadata": {},
   "outputs": [],
   "source": [
    "false_positive = test_comb[test_comb.y_true < test_comb.y_pred]\n",
    "false_negative = test_comb[test_comb.y_true > test_comb.y_pred]\n",
    "correct = test_comb[test_comb.y_true == test_comb.y_pred]\n",
    "true_positive = correct[correct.y_pred == 1]\n",
    "true_negative = correct[correct.y_pred == 0]"
   ]
  },
  {
   "cell_type": "code",
   "execution_count": 7,
   "metadata": {},
   "outputs": [
    {
     "name": "stdout",
     "output_type": "stream",
     "text": [
      "14\n",
      "25\n",
      "23\n",
      "23854\n"
     ]
    }
   ],
   "source": [
    "print(false_positive.shape[0])\n",
    "print(false_negative.shape[0])\n",
    "print(true_positive.shape[0])\n",
    "print(true_negative.shape[0])"
   ]
  },
  {
   "cell_type": "code",
   "execution_count": 8,
   "metadata": {},
   "outputs": [
    {
     "name": "stdout",
     "output_type": "stream",
     "text": [
      "0.4791666666666667\n"
     ]
    }
   ],
   "source": [
    "recall= true_positive.shape[0] / (true_positive.shape[0]+false_negative.shape[0])\n",
    "print(recall)"
   ]
  },
  {
   "cell_type": "code",
   "execution_count": 9,
   "metadata": {},
   "outputs": [
    {
     "data": {
      "text/plain": [
       "<AxesSubplot:xlabel='ModAmount', ylabel='Count'>"
      ]
     },
     "execution_count": 9,
     "metadata": {},
     "output_type": "execute_result"
    },
    {
     "data": {
      "image/png": "[encoded data removed]",
      "text/plain": [
       "<Figure size 432x288 with 1 Axes>"
      ]
     },
     "metadata": {
      "needs_background": "light"
     },
     "output_type": "display_data"
    }
   ],
   "source": [
    "import seaborn as sns\n",
    "sns.histplot(data= false_negative, x=\"ModAmount\")"
   ]
  },
  {
   "cell_type": "code",
   "execution_count": 10,
   "metadata": {},
   "outputs": [
    {
     "data": {
      "text/plain": [
       "<AxesSubplot:xlabel='ModAmount', ylabel='Count'>"
      ]
     },
     "execution_count": 10,
     "metadata": {},
     "output_type": "execute_result"
    },
    {
     "data": {
      "image/png": "[encoded data removed]",
      "text/plain": [
       "<Figure size 432x288 with 1 Axes>"
      ]
     },
     "metadata": {
      "needs_background": "light"
     },
     "output_type": "display_data"
    }
   ],
   "source": [
    "sns.histplot(data= true_positive, x=\"ModAmount\")"
   ]
  },
  {
   "cell_type": "code",
   "execution_count": 11,
   "metadata": {},
   "outputs": [
    {
     "data": {
      "text/plain": [
       "10848000.0"
      ]
     },
     "execution_count": 11,
     "metadata": {},
     "output_type": "execute_result"
    }
   ],
   "source": [
    "false_negative[false_negative.SignAmount == 1].ModAmount.sum()"
   ]
  },
  {
   "cell_type": "code",
   "execution_count": 12,
   "metadata": {},
   "outputs": [
    {
     "data": {
      "text/plain": [
       "1005.0"
      ]
     },
     "execution_count": 12,
     "metadata": {},
     "output_type": "execute_result"
    }
   ],
   "source": [
    "false_negative[false_negative.SignAmount == 0].ModAmount.sum()"
   ]
  },
  {
   "cell_type": "code",
   "execution_count": 13,
   "metadata": {},
   "outputs": [
    {
     "data": {
      "text/plain": [
       "90529988.0"
      ]
     },
     "execution_count": 13,
     "metadata": {},
     "output_type": "execute_result"
    }
   ],
   "source": [
    "true_positive[true_positive.SignAmount == 1].ModAmount.sum()"
   ]
  },
  {
   "cell_type": "code",
   "execution_count": 14,
   "metadata": {},
   "outputs": [
    {
     "data": {
      "text/plain": [
       "0.0"
      ]
     },
     "execution_count": 14,
     "metadata": {},
     "output_type": "execute_result"
    }
   ],
   "source": [
    "true_positive[true_positive.SignAmount == 0].ModAmount.sum()"
   ]
  },
  {
   "cell_type": "code",
   "execution_count": 16,
   "metadata": {},
   "outputs": [],
   "source": [
    "from Error_analysis import calculate_cost\n",
    "    "
   ]
  },
  {
   "cell_type": "code",
   "execution_count": 17,
   "metadata": {},
   "outputs": [
    {
     "name": "stdout",
     "output_type": "stream",
     "text": [
      "You saved the company 90.53 UGX\n",
      "The company still has to reimburse frauds with a total of 10.85 UGX\n",
      "Total money saved is 79.68 Million UGX\n"
     ]
    }
   ],
   "source": [
    "df_pred, saved_money = calculate_cost(X_test, y_test, y_pred)"
   ]
  },
  {
   "cell_type": "code",
   "execution_count": null,
   "metadata": {},
   "outputs": [],
   "source": []
  },
  {
   "cell_type": "code",
   "execution_count": null,
   "metadata": {},
   "outputs": [],
   "source": []
  }
 ],
 "metadata": {
  "kernelspec": {
   "display_name": "Python 3.9.8 ('.venv': venv)",
   "language": "python",
   "name": "python3"
  },
  "language_info": {
   "codemirror_mode": {
    "name": "ipython",
    "version": 3
   },
   "file_extension": ".py",
   "mimetype": "text/x-python",
   "name": "python",
   "nbconvert_exporter": "python",
   "pygments_lexer": "ipython3",
   "version": "3.9.8"
  },
  "orig_nbformat": 4,
  "vscode": {
   "interpreter": {
    "hash": "3655354e26834e2173e36e5ac925a0f8623daba597fae37f2d44dc4edabae95a"
   }
  }
 },
 "nbformat": 4,
 "nbformat_minor": 2
}
