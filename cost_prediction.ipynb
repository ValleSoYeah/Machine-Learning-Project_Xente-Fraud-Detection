{
 "cells": [
  {
   "cell_type": "code",
   "execution_count": 47,
   "metadata": {},
   "outputs": [],
   "source": [
    "import pandas as pd\n",
    "from sklearn.linear_model import LogisticRegression\n",
    "from sklearn.model_selection import train_test_split"
   ]
  },
  {
   "cell_type": "code",
   "execution_count": 58,
   "metadata": {},
   "outputs": [],
   "source": [
    "df= pd.read_csv(\"data/training_preprocessed.csv\")\n",
    "y= df.FraudResult\n",
    "df.drop(\"FraudResult\", axis=1, inplace=True)\n",
    "X= df\n",
    "X.drop([\"TransactionId\"], axis=1, inplace=True)"
   ]
  },
  {
   "cell_type": "code",
   "execution_count": 59,
   "metadata": {},
   "outputs": [],
   "source": [
    "X_train, X_test, y_train, y_test = train_test_split(X, y, stratify=y)"
   ]
  },
  {
   "cell_type": "code",
   "execution_count": 60,
   "metadata": {},
   "outputs": [],
   "source": [
    "lr= LogisticRegression()\n",
    "lr.fit(X_train, y_train)\n",
    "y_pred = lr.predict(X_test)\n"
   ]
  },
  {
   "cell_type": "code",
   "execution_count": 61,
   "metadata": {},
   "outputs": [
    {
     "data": {
      "text/html": [
       "<div>\n",
       "<style scoped>\n",
       "    .dataframe tbody tr th:only-of-type {\n",
       "        vertical-align: middle;\n",
       "    }\n",
       "\n",
       "    .dataframe tbody tr th {\n",
       "        vertical-align: top;\n",
       "    }\n",
       "\n",
       "    .dataframe thead th {\n",
       "        text-align: right;\n",
       "    }\n",
       "</style>\n",
       "<table border=\"1\" class=\"dataframe\">\n",
       "  <thead>\n",
       "    <tr style=\"text-align: right;\">\n",
       "      <th></th>\n",
       "      <th>Year</th>\n",
       "      <th>Month</th>\n",
       "      <th>Week</th>\n",
       "      <th>Day</th>\n",
       "      <th>is_workday</th>\n",
       "      <th>is_worktime</th>\n",
       "      <th>SignAmount</th>\n",
       "      <th>ModAmount</th>\n",
       "      <th>ProviderId_1</th>\n",
       "      <th>ProviderId_2</th>\n",
       "      <th>...</th>\n",
       "      <th>batch_size</th>\n",
       "      <th>total_transactions_by_customer</th>\n",
       "      <th>transactions_by_customer_this_month</th>\n",
       "      <th>transactions_by_customer_this_week</th>\n",
       "      <th>transactions_by_customer_this_day</th>\n",
       "      <th>day_vs_week</th>\n",
       "      <th>day_vs_month</th>\n",
       "      <th>week_vs_month</th>\n",
       "      <th>y_true</th>\n",
       "      <th>y_pred</th>\n",
       "    </tr>\n",
       "  </thead>\n",
       "  <tbody>\n",
       "    <tr>\n",
       "      <th>9354</th>\n",
       "      <td>2018</td>\n",
       "      <td>11</td>\n",
       "      <td>48</td>\n",
       "      <td>27</td>\n",
       "      <td>1</td>\n",
       "      <td>1</td>\n",
       "      <td>1</td>\n",
       "      <td>3000.0</td>\n",
       "      <td>0</td>\n",
       "      <td>0</td>\n",
       "      <td>...</td>\n",
       "      <td>1</td>\n",
       "      <td>260</td>\n",
       "      <td>135</td>\n",
       "      <td>55</td>\n",
       "      <td>9</td>\n",
       "      <td>0.163636</td>\n",
       "      <td>0.066667</td>\n",
       "      <td>0.407407</td>\n",
       "      <td>0</td>\n",
       "      <td>0</td>\n",
       "    </tr>\n",
       "    <tr>\n",
       "      <th>35705</th>\n",
       "      <td>2018</td>\n",
       "      <td>12</td>\n",
       "      <td>51</td>\n",
       "      <td>21</td>\n",
       "      <td>1</td>\n",
       "      <td>1</td>\n",
       "      <td>1</td>\n",
       "      <td>5000.0</td>\n",
       "      <td>0</td>\n",
       "      <td>0</td>\n",
       "      <td>...</td>\n",
       "      <td>1</td>\n",
       "      <td>10</td>\n",
       "      <td>6</td>\n",
       "      <td>6</td>\n",
       "      <td>6</td>\n",
       "      <td>1.000000</td>\n",
       "      <td>1.000000</td>\n",
       "      <td>1.000000</td>\n",
       "      <td>0</td>\n",
       "      <td>0</td>\n",
       "    </tr>\n",
       "    <tr>\n",
       "      <th>41252</th>\n",
       "      <td>2018</td>\n",
       "      <td>12</td>\n",
       "      <td>52</td>\n",
       "      <td>26</td>\n",
       "      <td>1</td>\n",
       "      <td>1</td>\n",
       "      <td>1</td>\n",
       "      <td>1000.0</td>\n",
       "      <td>0</td>\n",
       "      <td>0</td>\n",
       "      <td>...</td>\n",
       "      <td>1</td>\n",
       "      <td>1869</td>\n",
       "      <td>1264</td>\n",
       "      <td>317</td>\n",
       "      <td>65</td>\n",
       "      <td>0.205047</td>\n",
       "      <td>0.051424</td>\n",
       "      <td>0.250791</td>\n",
       "      <td>0</td>\n",
       "      <td>0</td>\n",
       "    </tr>\n",
       "    <tr>\n",
       "      <th>48404</th>\n",
       "      <td>2019</td>\n",
       "      <td>1</td>\n",
       "      <td>1</td>\n",
       "      <td>1</td>\n",
       "      <td>1</td>\n",
       "      <td>1</td>\n",
       "      <td>1</td>\n",
       "      <td>1000.0</td>\n",
       "      <td>0</td>\n",
       "      <td>0</td>\n",
       "      <td>...</td>\n",
       "      <td>1</td>\n",
       "      <td>10</td>\n",
       "      <td>7</td>\n",
       "      <td>2</td>\n",
       "      <td>2</td>\n",
       "      <td>1.000000</td>\n",
       "      <td>0.285714</td>\n",
       "      <td>0.285714</td>\n",
       "      <td>0</td>\n",
       "      <td>0</td>\n",
       "    </tr>\n",
       "    <tr>\n",
       "      <th>18476</th>\n",
       "      <td>2018</td>\n",
       "      <td>12</td>\n",
       "      <td>49</td>\n",
       "      <td>6</td>\n",
       "      <td>1</td>\n",
       "      <td>1</td>\n",
       "      <td>0</td>\n",
       "      <td>235.0</td>\n",
       "      <td>0</td>\n",
       "      <td>0</td>\n",
       "      <td>...</td>\n",
       "      <td>1</td>\n",
       "      <td>273</td>\n",
       "      <td>200</td>\n",
       "      <td>14</td>\n",
       "      <td>4</td>\n",
       "      <td>0.285714</td>\n",
       "      <td>0.020000</td>\n",
       "      <td>0.070000</td>\n",
       "      <td>0</td>\n",
       "      <td>0</td>\n",
       "    </tr>\n",
       "    <tr>\n",
       "      <th>...</th>\n",
       "      <td>...</td>\n",
       "      <td>...</td>\n",
       "      <td>...</td>\n",
       "      <td>...</td>\n",
       "      <td>...</td>\n",
       "      <td>...</td>\n",
       "      <td>...</td>\n",
       "      <td>...</td>\n",
       "      <td>...</td>\n",
       "      <td>...</td>\n",
       "      <td>...</td>\n",
       "      <td>...</td>\n",
       "      <td>...</td>\n",
       "      <td>...</td>\n",
       "      <td>...</td>\n",
       "      <td>...</td>\n",
       "      <td>...</td>\n",
       "      <td>...</td>\n",
       "      <td>...</td>\n",
       "      <td>...</td>\n",
       "      <td>...</td>\n",
       "    </tr>\n",
       "    <tr>\n",
       "      <th>72218</th>\n",
       "      <td>2019</td>\n",
       "      <td>1</td>\n",
       "      <td>4</td>\n",
       "      <td>25</td>\n",
       "      <td>1</td>\n",
       "      <td>1</td>\n",
       "      <td>1</td>\n",
       "      <td>1100.0</td>\n",
       "      <td>0</td>\n",
       "      <td>0</td>\n",
       "      <td>...</td>\n",
       "      <td>1</td>\n",
       "      <td>1869</td>\n",
       "      <td>487</td>\n",
       "      <td>123</td>\n",
       "      <td>35</td>\n",
       "      <td>0.284553</td>\n",
       "      <td>0.071869</td>\n",
       "      <td>0.252567</td>\n",
       "      <td>0</td>\n",
       "      <td>0</td>\n",
       "    </tr>\n",
       "    <tr>\n",
       "      <th>4766</th>\n",
       "      <td>2018</td>\n",
       "      <td>11</td>\n",
       "      <td>47</td>\n",
       "      <td>20</td>\n",
       "      <td>1</td>\n",
       "      <td>0</td>\n",
       "      <td>0</td>\n",
       "      <td>20.0</td>\n",
       "      <td>0</td>\n",
       "      <td>0</td>\n",
       "      <td>...</td>\n",
       "      <td>1</td>\n",
       "      <td>72</td>\n",
       "      <td>72</td>\n",
       "      <td>48</td>\n",
       "      <td>15</td>\n",
       "      <td>0.312500</td>\n",
       "      <td>0.208333</td>\n",
       "      <td>0.666667</td>\n",
       "      <td>0</td>\n",
       "      <td>0</td>\n",
       "    </tr>\n",
       "    <tr>\n",
       "      <th>73408</th>\n",
       "      <td>2019</td>\n",
       "      <td>1</td>\n",
       "      <td>4</td>\n",
       "      <td>25</td>\n",
       "      <td>1</td>\n",
       "      <td>0</td>\n",
       "      <td>1</td>\n",
       "      <td>5000.0</td>\n",
       "      <td>1</td>\n",
       "      <td>0</td>\n",
       "      <td>...</td>\n",
       "      <td>1</td>\n",
       "      <td>37</td>\n",
       "      <td>16</td>\n",
       "      <td>7</td>\n",
       "      <td>3</td>\n",
       "      <td>0.428571</td>\n",
       "      <td>0.187500</td>\n",
       "      <td>0.437500</td>\n",
       "      <td>0</td>\n",
       "      <td>0</td>\n",
       "    </tr>\n",
       "    <tr>\n",
       "      <th>42593</th>\n",
       "      <td>2018</td>\n",
       "      <td>12</td>\n",
       "      <td>52</td>\n",
       "      <td>27</td>\n",
       "      <td>1</td>\n",
       "      <td>1</td>\n",
       "      <td>0</td>\n",
       "      <td>55.0</td>\n",
       "      <td>0</td>\n",
       "      <td>0</td>\n",
       "      <td>...</td>\n",
       "      <td>1</td>\n",
       "      <td>610</td>\n",
       "      <td>494</td>\n",
       "      <td>465</td>\n",
       "      <td>202</td>\n",
       "      <td>0.434409</td>\n",
       "      <td>0.408907</td>\n",
       "      <td>0.941296</td>\n",
       "      <td>0</td>\n",
       "      <td>0</td>\n",
       "    </tr>\n",
       "    <tr>\n",
       "      <th>58800</th>\n",
       "      <td>2019</td>\n",
       "      <td>1</td>\n",
       "      <td>2</td>\n",
       "      <td>12</td>\n",
       "      <td>0</td>\n",
       "      <td>0</td>\n",
       "      <td>1</td>\n",
       "      <td>500.0</td>\n",
       "      <td>0</td>\n",
       "      <td>0</td>\n",
       "      <td>...</td>\n",
       "      <td>1</td>\n",
       "      <td>249</td>\n",
       "      <td>85</td>\n",
       "      <td>25</td>\n",
       "      <td>6</td>\n",
       "      <td>0.240000</td>\n",
       "      <td>0.070588</td>\n",
       "      <td>0.294118</td>\n",
       "      <td>0</td>\n",
       "      <td>0</td>\n",
       "    </tr>\n",
       "  </tbody>\n",
       "</table>\n",
       "<p>23916 rows × 64 columns</p>\n",
       "</div>"
      ],
      "text/plain": [
       "       Year  Month  Week  Day  is_workday  is_worktime  SignAmount  ModAmount  \\\n",
       "9354   2018     11    48   27           1            1           1     3000.0   \n",
       "35705  2018     12    51   21           1            1           1     5000.0   \n",
       "41252  2018     12    52   26           1            1           1     1000.0   \n",
       "48404  2019      1     1    1           1            1           1     1000.0   \n",
       "18476  2018     12    49    6           1            1           0      235.0   \n",
       "...     ...    ...   ...  ...         ...          ...         ...        ...   \n",
       "72218  2019      1     4   25           1            1           1     1100.0   \n",
       "4766   2018     11    47   20           1            0           0       20.0   \n",
       "73408  2019      1     4   25           1            0           1     5000.0   \n",
       "42593  2018     12    52   27           1            1           0       55.0   \n",
       "58800  2019      1     2   12           0            0           1      500.0   \n",
       "\n",
       "       ProviderId_1  ProviderId_2  ...  batch_size  \\\n",
       "9354              0             0  ...           1   \n",
       "35705             0             0  ...           1   \n",
       "41252             0             0  ...           1   \n",
       "48404             0             0  ...           1   \n",
       "18476             0             0  ...           1   \n",
       "...             ...           ...  ...         ...   \n",
       "72218             0             0  ...           1   \n",
       "4766              0             0  ...           1   \n",
       "73408             1             0  ...           1   \n",
       "42593             0             0  ...           1   \n",
       "58800             0             0  ...           1   \n",
       "\n",
       "       total_transactions_by_customer  transactions_by_customer_this_month  \\\n",
       "9354                              260                                  135   \n",
       "35705                              10                                    6   \n",
       "41252                            1869                                 1264   \n",
       "48404                              10                                    7   \n",
       "18476                             273                                  200   \n",
       "...                               ...                                  ...   \n",
       "72218                            1869                                  487   \n",
       "4766                               72                                   72   \n",
       "73408                              37                                   16   \n",
       "42593                             610                                  494   \n",
       "58800                             249                                   85   \n",
       "\n",
       "       transactions_by_customer_this_week  transactions_by_customer_this_day  \\\n",
       "9354                                   55                                  9   \n",
       "35705                                   6                                  6   \n",
       "41252                                 317                                 65   \n",
       "48404                                   2                                  2   \n",
       "18476                                  14                                  4   \n",
       "...                                   ...                                ...   \n",
       "72218                                 123                                 35   \n",
       "4766                                   48                                 15   \n",
       "73408                                   7                                  3   \n",
       "42593                                 465                                202   \n",
       "58800                                  25                                  6   \n",
       "\n",
       "       day_vs_week  day_vs_month  week_vs_month  y_true  y_pred  \n",
       "9354      0.163636      0.066667       0.407407       0       0  \n",
       "35705     1.000000      1.000000       1.000000       0       0  \n",
       "41252     0.205047      0.051424       0.250791       0       0  \n",
       "48404     1.000000      0.285714       0.285714       0       0  \n",
       "18476     0.285714      0.020000       0.070000       0       0  \n",
       "...            ...           ...            ...     ...     ...  \n",
       "72218     0.284553      0.071869       0.252567       0       0  \n",
       "4766      0.312500      0.208333       0.666667       0       0  \n",
       "73408     0.428571      0.187500       0.437500       0       0  \n",
       "42593     0.434409      0.408907       0.941296       0       0  \n",
       "58800     0.240000      0.070588       0.294118       0       0  \n",
       "\n",
       "[23916 rows x 64 columns]"
      ]
     },
     "execution_count": 61,
     "metadata": {},
     "output_type": "execute_result"
    }
   ],
   "source": [
    "test_comb = X_test\n",
    "test_comb[\"y_true\"] = y_test\n",
    "test_comb[\"y_pred\"] = y_pred\n",
    "test_comb"
   ]
  },
  {
   "cell_type": "code",
   "execution_count": 68,
   "metadata": {},
   "outputs": [],
   "source": [
    "false_positive = test_comb[test_comb.y_true < test_comb.y_pred]\n",
    "false_negative = test_comb[test_comb.y_true > test_comb.y_pred]\n",
    "correct = test_comb[test_comb.y_true == test_comb.y_pred]\n",
    "true_positive = correct[correct.y_pred == 1]\n",
    "true_negative = correct[correct.y_pred == 0]"
   ]
  },
  {
   "cell_type": "code",
   "execution_count": 69,
   "metadata": {},
   "outputs": [
    {
     "name": "stdout",
     "output_type": "stream",
     "text": [
      "10\n",
      "31\n",
      "17\n",
      "23858\n"
     ]
    }
   ],
   "source": [
    "print(false_positive.shape[0])\n",
    "print(false_negative.shape[0])\n",
    "print(true_positive.shape[0])\n",
    "print(true_negative.shape[0])"
   ]
  },
  {
   "cell_type": "code",
   "execution_count": 71,
   "metadata": {},
   "outputs": [
    {
     "name": "stdout",
     "output_type": "stream",
     "text": [
      "0.3541666666666667\n"
     ]
    }
   ],
   "source": [
    "recall= true_positive.shape[0] / (true_positive.shape[0]+false_negative.shape[0])\n",
    "print(recall)"
   ]
  },
  {
   "cell_type": "code",
   "execution_count": 74,
   "metadata": {},
   "outputs": [
    {
     "data": {
      "text/plain": [
       "<AxesSubplot:xlabel='ModAmount', ylabel='Count'>"
      ]
     },
     "execution_count": 74,
     "metadata": {},
     "output_type": "execute_result"
    },
    {
     "data": {
      "image/png": "[encoded data removed]",
      "text/plain": [
       "<Figure size 432x288 with 1 Axes>"
      ]
     },
     "metadata": {
      "needs_background": "light"
     },
     "output_type": "display_data"
    }
   ],
   "source": [
    "import seaborn as sns\n",
    "sns.histplot(data= false_negative, x=\"ModAmount\")"
   ]
  },
  {
   "cell_type": "code",
   "execution_count": 75,
   "metadata": {},
   "outputs": [
    {
     "data": {
      "text/plain": [
       "<AxesSubplot:xlabel='ModAmount', ylabel='Count'>"
      ]
     },
     "execution_count": 75,
     "metadata": {},
     "output_type": "execute_result"
    },
    {
     "data": {
      "image/png": "[encoded data removed]",
      "text/plain": [
       "<Figure size 432x288 with 1 Axes>"
      ]
     },
     "metadata": {
      "needs_background": "light"
     },
     "output_type": "display_data"
    }
   ],
   "source": [
    "sns.histplot(data= true_positive, x=\"ModAmount\")"
   ]
  },
  {
   "cell_type": "code",
   "execution_count": 76,
   "metadata": {},
   "outputs": [
    {
     "data": {
      "text/plain": [
       "17293095.0"
      ]
     },
     "execution_count": 76,
     "metadata": {},
     "output_type": "execute_result"
    }
   ],
   "source": [
    "false_negative.ModAmount.sum()"
   ]
  },
  {
   "cell_type": "code",
   "execution_count": 77,
   "metadata": {},
   "outputs": [
    {
     "data": {
      "text/plain": [
       "71589988.0"
      ]
     },
     "execution_count": 77,
     "metadata": {},
     "output_type": "execute_result"
    }
   ],
   "source": [
    "true_positive.ModAmount.sum()"
   ]
  },
  {
   "cell_type": "code",
   "execution_count": null,
   "metadata": {},
   "outputs": [],
   "source": []
  }
 ],
 "metadata": {
  "kernelspec": {
   "display_name": "Python 3.9.8 ('.venv': venv)",
   "language": "python",
   "name": "python3"
  },
  "language_info": {
   "codemirror_mode": {
    "name": "ipython",
    "version": 3
   },
   "file_extension": ".py",
   "mimetype": "text/x-python",
   "name": "python",
   "nbconvert_exporter": "python",
   "pygments_lexer": "ipython3",
   "version": "3.9.8"
  },
  "orig_nbformat": 4,
  "vscode": {
   "interpreter": {
    "hash": "3655354e26834e2173e36e5ac925a0f8623daba597fae37f2d44dc4edabae95a"
   }
  }
 },
 "nbformat": 4,
 "nbformat_minor": 2
}
